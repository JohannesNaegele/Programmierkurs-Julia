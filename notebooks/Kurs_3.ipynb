{
 "cells": [
  {
   "attachments": {},
   "cell_type": "markdown",
   "metadata": {},
   "source": [
    "# Kurs 3"
   ]
  },
  {
   "attachments": {},
   "cell_type": "markdown",
   "metadata": {},
   "source": [
    "## Exkurs: Map\n",
    "\n",
    "Die Funktion ```map``` funktioniert ähnlich wie broadcasting."
   ]
  },
  {
   "cell_type": "code",
   "execution_count": null,
   "metadata": {},
   "outputs": [],
   "source": [
    "# Wie gewohnt\n",
    "map(exp, [1, 2, 3])"
   ]
  },
  {
   "cell_type": "code",
   "execution_count": null,
   "metadata": {},
   "outputs": [],
   "source": [
    "exp.([1, 2, 3])"
   ]
  },
  {
   "attachments": {},
   "cell_type": "markdown",
   "metadata": {},
   "source": [
    "Es gibt allerdings ein paar kleine Unterschiede:"
   ]
  },
  {
   "cell_type": "code",
   "execution_count": null,
   "metadata": {},
   "outputs": [],
   "source": [
    "[1, 2, 3, 4] .+ [1 2 3 4]"
   ]
  },
  {
   "cell_type": "code",
   "execution_count": null,
   "metadata": {},
   "outputs": [],
   "source": [
    "map(+, [1, 2, 3, 4], [1 2 3 4])"
   ]
  },
  {
   "cell_type": "markdown",
   "metadata": {},
   "source": [
    "Das liegt daran, dass ```map``` die beiden Inputs nach Reißverschlussprinzip miteinander kombiniert, also etwa so:"
   ]
  },
  {
   "cell_type": "code",
   "execution_count": null,
   "metadata": {},
   "outputs": [],
   "source": [
    "zip([1, 2, 3, 4], [1 2 3 4])"
   ]
  },
  {
   "cell_type": "markdown",
   "metadata": {},
   "source": [
    "Dementsprechend schert sich ```map``` in unserem Beispiel nicht um Dimensionen (Zeilen vs. Spalten) und hat auch kein Problem damit, wenn die Länge nicht übereinstimmt:"
   ]
  },
  {
   "cell_type": "code",
   "execution_count": null,
   "metadata": {},
   "outputs": [],
   "source": [
    "map(+, [1, 2, 3], [1 2 3 4])"
   ]
  },
  {
   "attachments": {},
   "cell_type": "markdown",
   "metadata": {},
   "source": [
    "Tatsächlich ist map ein super allgemeines Konzept, das zum Beispiel auch beim highperformance computing auftaucht. Dort hat man nämlich üblicherweise sogenannte map-reduce patterns. Die Intuition hierbei ist: Man hat in der Praxis immer hochparallele Systeme (viele Rechenkerne oder GPU(s), TPU(s)) und muss daher eine Aufgabe in möglichst gleiche Teile zerlegen, die individuell ausgerechnet (map) und nachher wieder zusammengeführt (reduce) werden[^1]. Ein Beispiel wäre etwa das maximale Element einer großen Matrix ```A``` zu finden. Dabei hätten wir vielleicht verschiedene Maschinen, die dann jeweils das Maximum einer Spalte ausrechnen und an unseren Hauptrechner (host) zurückgeben. Dieser braucht dann nur noch die Ergebnisse zu reducen, dann sind wir fertig:\n",
    "\n",
    "[^1]: \n",
    "    Aus mathematischer Sicht braucht man für map-reduce Assoziativität (klar für das Maximum) und Existenz eines neutralen Elements (das wäre dafür gerade ```-Inf```). Mehr Infos dazu [hier](https://en.wikipedia.org/wiki/MapReduce#Theoretical_background)."
   ]
  },
  {
   "cell_type": "code",
   "execution_count": null,
   "metadata": {},
   "outputs": [],
   "source": [
    "mat = [1 2; 3 4] # Beispielmatrix\n",
    "results = map(x -> maximum(x), eachcol(mat)) # könnte beispielsweise auf verschiedenen Rechenkernen stattfinden\n",
    "println(results)\n",
    "reduce(max, results) # wir brauchen hier max, weil das ein binärer Operator ist"
   ]
  },
  {
   "attachments": {},
   "cell_type": "markdown",
   "metadata": {},
   "source": [
    "Ein letzter Tipp: Wenn die „gemapte“ Funktion keinen Output hat, verwendet man ```foreach```."
   ]
  },
  {
   "attachments": {},
   "cell_type": "markdown",
   "metadata": {},
   "source": [
    "## Rekursion"
   ]
  },
  {
   "attachments": {},
   "cell_type": "markdown",
   "metadata": {},
   "source": [
    "Mit Rekursion meinen wir den Prozess, dass Funktionen sich *selbst* wieder aufrufen können."
   ]
  },
  {
   "cell_type": "code",
   "execution_count": null,
   "metadata": {},
   "outputs": [],
   "source": [
    "function pow(a, n) # a^n\n",
    "    if n == 0 # wir wollen irgendwann in diesem case landen\n",
    "        return 1\n",
    "    elseif n < 0\n",
    "        return(pow(a, n + 1) / a) # a^n = a^(n+1) / a\n",
    "    else\n",
    "        return(pow(a, n - 1) * a) # a^n = a^(n-1) * a\n",
    "    end\n",
    "end\n",
    "\n",
    "pow(2, 4)"
   ]
  },
  {
   "attachments": {},
   "cell_type": "markdown",
   "metadata": {},
   "source": [
    "## ```for```-Loops\n",
    "\n",
    "Untenstehend ist ein ziemlich unpraktischer Weg, um sich die Zahlen 1-10 auszugeben. "
   ]
  },
  {
   "cell_type": "code",
   "execution_count": null,
   "metadata": {},
   "outputs": [],
   "source": [
    "println(1)\n",
    "println(2)\n",
    "println(3)\n",
    "println(4)\n",
    "println(5)\n",
    "println(6)\n",
    "println(7)\n",
    "println(8)\n",
    "println(9)"
   ]
  },
  {
   "attachments": {},
   "cell_type": "markdown",
   "metadata": {},
   "source": [
    "Wir wollen nämlich repetitive Aufgaben durch sogenannte Loops (Schleifen) lösen."
   ]
  },
  {
   "cell_type": "code",
   "execution_count": null,
   "metadata": {},
   "outputs": [],
   "source": [
    "function print_numbers(first_number, last_number) \n",
    "    for i in first_number:last_number\n",
    "        println(i)\n",
    "    end\n",
    "end\n",
    "\n",
    "print_numbers(1, 9)"
   ]
  },
  {
   "attachments": {},
   "cell_type": "markdown",
   "metadata": {},
   "source": [
    "Es kann nicht nur über Ranges von Zahlen (wie ```first_number:last_number```) iteriert werden, sondern auch über beliebige Elemente in einem Array:"
   ]
  },
  {
   "cell_type": "code",
   "execution_count": null,
   "metadata": {},
   "outputs": [],
   "source": [
    "array1 = [\"H\", \"A\", \"L\", \"L\", \"O\", 1, 2, 3]\n",
    "\n",
    "for element in array1\n",
    "    print(element) # Ausgabe ohne neue Zeile am Ende\n",
    "end"
   ]
  },
  {
   "attachments": {},
   "cell_type": "markdown",
   "metadata": {},
   "source": [
    "Auch bei der Erstellung von Arrays kann man Loops verwenden:"
   ]
  },
  {
   "cell_type": "code",
   "execution_count": null,
   "metadata": {},
   "outputs": [],
   "source": [
    "array2 = [2 * i^2 for i in 1:10]"
   ]
  },
  {
   "attachments": {},
   "cell_type": "markdown",
   "metadata": {},
   "source": [
    "Wenn wir dagegen umgekehrt über die Indizes eines Arrays loopen wollen, dann geht das zwar durchaus mit ```1:length(array2)```, man sollte tendenziell aber eher den Befehl ```eachindex``` nutzen:"
   ]
  },
  {
   "cell_type": "code",
   "execution_count": null,
   "metadata": {},
   "outputs": [],
   "source": [
    "for i in eachindex(array2)\n",
    "    println(i)\n",
    "end"
   ]
  },
  {
   "attachments": {},
   "cell_type": "markdown",
   "metadata": {},
   "source": [
    "Ähnlich funktioniert ```axes``` für höherdimensionale Objekte:"
   ]
  },
  {
   "cell_type": "code",
   "execution_count": null,
   "metadata": {},
   "outputs": [],
   "source": [
    "for j in axes(mat, 2) # loope über Spalten\n",
    "    println(mat[1, j]) # fixiere außerdem erste Zeile\n",
    "end"
   ]
  },
  {
   "attachments": {},
   "cell_type": "markdown",
   "metadata": {},
   "source": [
    "## ```while```-Loops"
   ]
  },
  {
   "attachments": {},
   "cell_type": "markdown",
   "metadata": {},
   "source": [
    "Hier können wir nun solange (```while```) einen Befehl ausführen, wie eine bestimmte Bedingung erfüllt ist:"
   ]
  },
  {
   "cell_type": "code",
   "execution_count": null,
   "metadata": {},
   "outputs": [],
   "source": [
    "function countdown_from_n(n) \n",
    "    while n > 0\n",
    "        println(n)\n",
    "        n -= 1\n",
    "    end\n",
    "end\n",
    "\n",
    "countdown_from_n(5)"
   ]
  },
  {
   "cell_type": "markdown",
   "metadata": {},
   "source": [
    "Potenziell kann `while` ziemlich bösartig sein, weil etwa `while true ... end` nie terminiert (Endlosschleife) und daher unser Programm hängen bleibt oder abstürzt.\n",
    "\n",
    "Eine kleine Randbemerkung: Anders als in vielen anderen Sprachen (insbesondere Interpretersprachen wie Python oder R) müssen wir uns in Julia meist nicht davor fürchten, dass selbstgeschriebene Loops inperformant werden. Denn an irgendeiner Stelle muss ja der Loop implementiert sein (außer man schreibt in Assembler), in Python etwa meistens in C/C++. Das bedeutet: Schneller, spezialisierter Code aus C/C++ (etwa NumPy) wird für, sagen wir, Matrizenrechnung eingebunden und ersetzt Python-Loops. In Julia entfällt dieser Schritt, weil sowieso das meiste direkt (nativ) in Julia geschrieben wird bzw. weil Julia schon sehr performant ist. Eine Ausnahme wären etwa hochoptimierte Bibliotheken für Lineare Algebra (aber die werden sowieso in jeder Sprache extern eingebunden).\n",
    "\n",
    "Zusammengefasst bietet uns sogenannte Vektorisierung wie in R oder Matlab per se keine Vorteile (das wäre gerade sowas wie broadcasting oder map in Julia). Nichtsdestotrotz steigt der Rechenaufwand verschachtelter Loops natürlich exponentiell und es gibt einige Tricks, die man zum Beschleunigen nutzen kann – dazu später mehr."
   ]
  }
 ],
 "metadata": {
  "kernelspec": {
   "display_name": "Julia 1.10.0",
   "language": "julia",
   "name": "julia-1.10"
  },
  "language_info": {
   "file_extension": ".jl",
   "mimetype": "application/julia",
   "name": "julia",
   "version": "1.10.0"
  },
  "orig_nbformat": 4,
  "vscode": {
   "interpreter": {
    "hash": "b0fa6594d8f4cbf19f97940f81e996739fb7646882a419484c72d19e05852a7e"
   }
  }
 },
 "nbformat": 4,
 "nbformat_minor": 2
}
