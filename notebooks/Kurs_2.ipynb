{
 "cells": [
  {
   "attachments": {},
   "cell_type": "markdown",
   "metadata": {},
   "source": [
    "# Kurs 2"
   ]
  },
  {
   "cell_type": "markdown",
   "metadata": {},
   "source": [
    "## Funktionen"
   ]
  },
  {
   "cell_type": "markdown",
   "metadata": {},
   "source": [
    "### Einführung und Motivation\n",
    "Wir haben bisher schon einige Funktionen wie ```println```, ```typeof```, oder ```push!``` kennengelernt, die Julia uns ab Werk bereitstellt. Der Clou an der ganzen Sache ist nun, dass wir uns auch eigene Funktionen schreiben können. Folgende Funktion macht beispielsweise nichts anderes, als den Minus eines Inputs zurückzugeben:"
   ]
  },
  {
   "cell_type": "code",
   "execution_count": null,
   "metadata": {},
   "outputs": [],
   "source": [
    "function minus(a)\n",
    "    return -a\n",
    "end\n",
    "\n",
    "minus(10)"
   ]
  },
  {
   "cell_type": "markdown",
   "metadata": {},
   "source": [
    "\n",
    "Dabei nennt man ```a``` ein (Funktions-)Argument und den Teil nach ```return``` einen Rückgabewert."
   ]
  },
  {
   "cell_type": "code",
   "execution_count": null,
   "metadata": {},
   "outputs": [],
   "source": [
    "# fyi\n",
    "typeof(minus)"
   ]
  },
  {
   "cell_type": "markdown",
   "metadata": {},
   "source": [
    "Warum wollen wir Funktionen schreiben? Erstens möchten wir Code nicht jedesmal neu schreiben, sondern wiederverwerten. Zweitens ist es auch guter Stil, weil es Code sehr viel übersichtlicher und leichter zu debuggen (fehlerbeheben) macht. Grund dafür ist unter anderem, dass Variablen, die wir innerhalb der Funktion neu anlegen, nur dort sichtbar sind (local scope). Und drittens sorgt das im Falle von Julia oftmals auch für schnelleren Code.\n",
    "\n",
    "Ein Beispiel für den ersten Punkt wäre beispielsweise die Mitternachtsformel. Da hätten wir keine Lust, für jedes Polynom jedesmal die gleiche Formel abzutippen."
   ]
  },
  {
   "cell_type": "code",
   "execution_count": null,
   "metadata": {},
   "outputs": [],
   "source": [
    "# löst ax² + bx + c = 0\n",
    "function mitternacht(a, b, c)\n",
    "    x₁ = -b + sqrt(b^2 - 4a*c)\n",
    "    x₂ = -b - sqrt(b^2 - 4a*c)\n",
    "    # Teilen durch 2a\n",
    "    x₁ /= 2a\n",
    "    x₂ /= 2a\n",
    "    return x₁, x₂\n",
    "end\n",
    "\n",
    "# löst x² + x + 0 = 0\n",
    "mitternacht(1, 1, 0)"
   ]
  },
  {
   "cell_type": "markdown",
   "metadata": {},
   "source": [
    "Für Funktionen, die gut in einer Zeile geschrieben werden können, empfiehlt sich folgende Kurzschreibweise:"
   ]
  },
  {
   "cell_type": "code",
   "execution_count": null,
   "metadata": {},
   "outputs": [],
   "source": [
    "immernoch_minus(a) = -a\n",
    "immernoch_minus(-10)"
   ]
  },
  {
   "cell_type": "markdown",
   "metadata": {},
   "source": [
    "### Verschiedene Methoden\n",
    "\n",
    "Funktionen können verschiedene Methoden[^1] (also unterschiedliche Funktionalität für verschiedene Inputs) haben.[^2]\n",
    "\n",
    "[^1]:\n",
    "    Nicht zu verwechseln mit dem Begriff Methode (Funktion innerhalb einer Klasse) aus der objektorientierten Programmierung.\n",
    "\n",
    "[^2]:\n",
    "    Für die Leute, die schon ein bisschen Erfahrung mit etwa C++ haben: Im Prinzip ist das wie das Überladen von Funktionen – mit dem subtilen Unterschied, dass bei C++ der Inputtyp schon zur Kompilierzeit bekannt sein muss. Dieses Thema (multiple dispatch) behandeln wir später noch."
   ]
  },
  {
   "cell_type": "code",
   "execution_count": null,
   "metadata": {},
   "outputs": [],
   "source": [
    "# Unterschiedliches Verhalten je nach Anzahl der Inputs\n",
    "f(a) = a^2\n",
    "f(a, b) = a^2 + b\n",
    "\n",
    "println(f(2))\n",
    "println(f(2, 2))"
   ]
  },
  {
   "cell_type": "code",
   "execution_count": null,
   "metadata": {},
   "outputs": [],
   "source": [
    "test(a) = 2 # allgemeines Verhalten\n",
    "test(a::Integer) = 4 # Verhalten für Inputtyp Integer (type declaration)\n",
    "\n",
    "println(test(1.0)); println(test(2))"
   ]
  },
  {
   "cell_type": "markdown",
   "metadata": {},
   "source": [
    "\n",
    "Konvention: Funktionen, die nicht (nur) zurückgeben, sondern modifizieren, haben ein ```!``` am Ende."
   ]
  },
  {
   "cell_type": "code",
   "execution_count": null,
   "metadata": {},
   "outputs": [],
   "source": [
    "x = [2, 2, 2]\n",
    "function squarefirst!(x)\n",
    "    x[1] ^= 2 \n",
    "end\n",
    "\n",
    "squarefirst!(x)\n",
    "x"
   ]
  },
  {
   "cell_type": "markdown",
   "metadata": {},
   "source": [
    "### Broadcasting"
   ]
  },
  {
   "cell_type": "markdown",
   "metadata": {},
   "source": [
    "Funktionen können punktweise angewendet werden, indem hinter den Funktionsnamen noch ein ```.``` ergänzt wird."
   ]
  },
  {
   "cell_type": "code",
   "execution_count": null,
   "metadata": {},
   "outputs": [],
   "source": [
    "exp.([0, 1, 2])"
   ]
  },
  {
   "cell_type": "markdown",
   "metadata": {},
   "source": [
    "Eigentlich ist dieser einzelne ```.``` nur eine Kurzschreibweise für ein allgemeineres Konzept, das man *broadcasting* nennt. Das hier wäre derselbe Befehl ohne Kurzschreibweise:"
   ]
  },
  {
   "cell_type": "code",
   "execution_count": null,
   "metadata": {},
   "outputs": [],
   "source": [
    "broadcast(exp, [0, 1, 2])"
   ]
  },
  {
   "cell_type": "markdown",
   "metadata": {},
   "source": [
    "Der eigentliche Sinn erschließt sich uns aber erst bei Inputs ungleicher Länge."
   ]
  },
  {
   "cell_type": "code",
   "execution_count": null,
   "metadata": {},
   "outputs": [],
   "source": [
    "# 3x1 + 1x1\n",
    "[0, 1, 2] .+ 1"
   ]
  },
  {
   "cell_type": "code",
   "execution_count": null,
   "metadata": {},
   "outputs": [],
   "source": [
    "broadcast(+, 1, [0, 1, 2])"
   ]
  },
  {
   "cell_type": "markdown",
   "metadata": {},
   "source": [
    "Man kann sich ```broadcast``` ungefähr so vorstellen: für die verschiedenen Inputs wird gecheckt, ob man sie auf gemeinsame Dimensionen bringen kann, indem man Koordinaten mit Länge 1 verlängert. Derart bekommt man"
   ]
  },
  {
   "cell_type": "code",
   "execution_count": null,
   "metadata": {},
   "outputs": [],
   "source": [
    "# 4x1 + 1x4\n",
    "[1, 2, 3, 4] .+ [10 20 30 40]"
   ]
  },
  {
   "cell_type": "code",
   "execution_count": null,
   "metadata": {},
   "outputs": [],
   "source": [
    "# 4x1 + 1x4\n",
    "I(4) .+ [10 20 30 40]"
   ]
  },
  {
   "cell_type": "markdown",
   "metadata": {},
   "source": [
    "### Anonyme Funktionen"
   ]
  },
  {
   "cell_type": "code",
   "execution_count": null,
   "metadata": {},
   "outputs": [],
   "source": [
    "f(x) = x^2 - 1\n",
    "f.([1, 2, 3])"
   ]
  },
  {
   "cell_type": "code",
   "execution_count": null,
   "metadata": {},
   "outputs": [],
   "source": [
    "broadcast(x -> x^2 - 1, [1, 2, 3])"
   ]
  },
  {
   "cell_type": "markdown",
   "metadata": {},
   "source": [
    "### Keyword arguments"
   ]
  },
  {
   "cell_type": "code",
   "execution_count": null,
   "metadata": {},
   "outputs": [],
   "source": [
    "# b ist ein keyword argument\n",
    "g(a; b = 1, c = \"hallo\") = a^2 + b\n",
    "g(2)"
   ]
  },
  {
   "cell_type": "code",
   "execution_count": null,
   "metadata": {},
   "outputs": [],
   "source": [
    "multiply(a, b) = a * b\n",
    "multiply(a::Complex, b) = println(\"kein Bock auf komplexe Zahlen :/\")\n",
    "multiply(1+2im, 1)\n",
    "multiply(\"test\", \"test\")"
   ]
  },
  {
   "cell_type": "markdown",
   "metadata": {},
   "source": [
    "### Inputtypen"
   ]
  },
  {
   "cell_type": "markdown",
   "metadata": {},
   "source": [
    "Wir müssen uns immer überlegen, ob Funktionsargumente einen passenden Typ haben. Beispielsweise macht es wenig Sinn, den Minus eines Textes zurückzugeben:"
   ]
  },
  {
   "cell_type": "code",
   "execution_count": null,
   "metadata": {},
   "outputs": [],
   "source": [
    "# genauso wenig funktioniert minus(\"1\")\n",
    "minus(\"Nonsens-Text\")"
   ]
  },
  {
   "attachments": {},
   "cell_type": "markdown",
   "metadata": {},
   "source": [
    "## Logische Typen und Operatoren\n",
    "\n",
    "Neben den Datentypen, die wir in der letzten Kurs kennengelernt haben, sind auch sogenannte Booleans essentiell. Diese haben nur zwei mögliche Werte: ```true``` oder ```false```."
   ]
  },
  {
   "cell_type": "code",
   "execution_count": null,
   "metadata": {},
   "outputs": [],
   "source": [
    "# foo, bar, foobar, baz usw. sind das englische Äquivalent zu bla, blub, dings usw.\n",
    "foo = true\n",
    "typeof(foo)"
   ]
  },
  {
   "cell_type": "code",
   "execution_count": null,
   "metadata": {},
   "outputs": [],
   "source": [
    "# Negation\n",
    "!false"
   ]
  },
  {
   "attachments": {},
   "cell_type": "markdown",
   "metadata": {},
   "source": [
    "Wenn wir Werte mit Vergleichsoperatoren vergleichen, dann ist der Rückgabetyp gerade ```Bool```. Weil ```=``` ja schon für Variablenzuweisung belegt ist, testen wir mit ```==``` auf Gleichheit:"
   ]
  },
  {
   "cell_type": "code",
   "execution_count": null,
   "metadata": {},
   "outputs": [],
   "source": [
    "# kleiner\n",
    "println(3 < 5)\n",
    "# größer\n",
    "println(3 > 5)\n",
    "# gleich\n",
    "println(3 == 3)\n",
    "# ungleich\n",
    "println(3 != 5)\n",
    "# kleiner gleich\n",
    "println(3 <= 3)"
   ]
  },
  {
   "attachments": {},
   "cell_type": "markdown",
   "metadata": {},
   "source": [
    "Wir können Booleans aka logische Aussagen mittels logischem Und bzw. Oder verknüpfen:"
   ]
  },
  {
   "cell_type": "code",
   "execution_count": null,
   "metadata": {},
   "outputs": [],
   "source": [
    "# logisches Oder\n",
    "true_value = (3 < 5) | (4 > 5)\n",
    "# logisches Und\n",
    "false_value = (3 < 5) & (4 > 5)\n",
    "println(true_value)\n",
    "println(false_value)"
   ]
  },
  {
   "attachments": {},
   "cell_type": "markdown",
   "metadata": {},
   "source": [
    "Grundsätzlich muss man aber ein bisschen mit der Klammersetzung aufpassen, denn sowas wie ```5 | 4``` ist ebenfalls wohldefiniert in Form eines bitweisen Oder-Vergleichs!"
   ]
  },
  {
   "cell_type": "code",
   "execution_count": null,
   "metadata": {},
   "outputs": [],
   "source": [
    "# in Binärdarstellung haben wir 101 | 100 = 101 (bitweise!) also gerade wieder 5\n",
    "5 | 4"
   ]
  },
  {
   "attachments": {},
   "cell_type": "markdown",
   "metadata": {},
   "source": [
    "Dementsprechend läuft dann das Beispiel von oben ohne Klammern ziemlich schief:"
   ]
  },
  {
   "cell_type": "code",
   "execution_count": null,
   "metadata": {},
   "outputs": [],
   "source": [
    "# das gleiche wie 3 < 5 > 5\n",
    "not_so_true_value = 3 < 5 | 4 > 5"
   ]
  },
  {
   "attachments": {},
   "cell_type": "markdown",
   "metadata": {},
   "source": [
    "### Short-circuit evaluation\n",
    "Bei einem Vergleich wie ```a & b``` werden zunächst ```a``` und ```b``` ausgewertet, bevor der Vergleich stattfindet. Alternativ gibt es daher noch den Operator bzw. Vergleich ```a && b``` (short-circuit evaluation). Hier wird von links nach rechts ausgewertet, das heißt: Wenn ```a``` schon falsch ist, dann wird ```b``` nicht mehr berechnet. Das wollen wir manchmal, denn\n",
    "- wir können so Rechenzeit sparen\n",
    "- wenn ```b``` einen Fehler ausgibt, falls ```a``` schon nicht erfüllt ist, dann können wir das damit abfangen.\n",
    "\n",
    "Letzteres sieht man im folgenden Beispiel:"
   ]
  },
  {
   "cell_type": "code",
   "execution_count": null,
   "metadata": {},
   "outputs": [],
   "source": [
    "x = 1//2 # rationale Zahl 1/2\n",
    "println(fieldnames(typeof(x))) # wir haben folgende Felder in x\n",
    "denomis2(x) = (x isa Rational) && (x.den == 2)\n",
    "denomis2(x)"
   ]
  },
  {
   "cell_type": "code",
   "execution_count": null,
   "metadata": {},
   "outputs": [],
   "source": [
    "denomis2(0.5)"
   ]
  },
  {
   "attachments": {},
   "cell_type": "markdown",
   "metadata": {},
   "source": [
    "Analog gibt es zu ```|``` den ```||```-Operator."
   ]
  },
  {
   "attachments": {},
   "cell_type": "markdown",
   "metadata": {},
   "source": [
    "## Operator-Hierarchie\n",
    "\n",
    "Julia wendet die Operatoren in der folgenden Reihenfolge an (von der frühesten Auswertung zur spätesten):\n",
    "\n",
    "| Kategorien              | Operatoren                                                                                  | Assoziativität             |\n",
    "|:----------------------- |:--------------------------------------------------------------------------------------------|:-------------------------- |\n",
    "| Syntax                  | `.` followed by `::`                                                                        | Left                       |\n",
    "| Exponentiation          | `^`                                                                                         | Right                      |\n",
    "| Unary                   | `+ - √`                                                                                     | Right                  |\n",
    "| Bitshifts               | `<< >> >>>`                                                                                 | Left                       |\n",
    "| Fractions               | `//`                                                                                        | Left                       |\n",
    "| Multiplication          | `* / % & \\ ÷`                                                                               | Left                   |\n",
    "| Addition                | `+ - \\| ⊻`                                                                                  | Left                   |\n",
    "| Syntax                  | `: ..`                                                                                      | Left                       |\n",
    "| Syntax                  | `\\|>`                                                                                       | Left                       |\n",
    "| Syntax                  | `<\\|`                                                                                       | Right                      |\n",
    "| Comparisons             | `> < >= <= == === != !== <:`                                                                | Non-associative            |\n",
    "| Control flow            | `&&` followed by `\\|\\|` followed by `?`                                                     | Right                      |\n",
    "| Pair                    | `=>`                                                                                        | Right                      |\n",
    "| Assignments             | `= += -= *= /= //= \\= ^= ÷= %= \\|= &= ⊻= <<= >>= >>>=`                                      | Right                      |\n",
    "\n",
    "Eine ausführlichere Darstellung findet sich [hier](https://docs.julialang.org/en/v1/manual/mathematical-operations/#Operator-Precedence-and-Associativity)."
   ]
  },
  {
   "attachments": {},
   "cell_type": "markdown",
   "metadata": {},
   "source": [
    "## Kontrollstrukturen\n",
    "\n",
    "### Conditional Evaluation\n",
    "\n",
    "Kommen wir nun zu einer zentralen Anwendung logischer Operatoren: Mit diesen können wir Bedingungen im Code formulieren, denen zufolge bestimmte Codeabschnitte dann ausgewertet oder eben nicht ausgewertet werden."
   ]
  },
  {
   "attachments": {},
   "cell_type": "markdown",
   "metadata": {},
   "source": [
    "#### Beispiel: Definition einer Betragsfunktion $|x|$:"
   ]
  },
  {
   "cell_type": "code",
   "execution_count": null,
   "metadata": {},
   "outputs": [],
   "source": [
    "x = randn() # standardnormalverteilte Zufallsvariable\n",
    "\n",
    "function betrag(x)\n",
    "    if x < 0 # falls\n",
    "        return -x\n",
    "    else # falls nicht\n",
    "        return x\n",
    "    end\n",
    "end\n",
    "\n",
    "println(\"x = $x\")\n",
    "println(\"Der Betrag von x ist $(betrag(x))\")"
   ]
  },
  {
   "attachments": {},
   "cell_type": "markdown",
   "metadata": {},
   "source": [
    "#### Beispiel: Vergleich zweier Zahlen $x$ und $y$:"
   ]
  },
  {
   "cell_type": "code",
   "execution_count": null,
   "metadata": {},
   "outputs": [],
   "source": [
    "function order(x, y)\n",
    "    if x < y\n",
    "        println(x ,\" ist kleiner als \", y)\n",
    "    elseif x > y # nicht wundern, das heißt in jeder Sprache anders (ifelse, if else, else if, elif...)\n",
    "        println(x ,\" ist größer als \", y)\n",
    "    else\n",
    "        println(x ,\" ist gleich groß wie \", y)\n",
    "    end\n",
    "end\n",
    "\n",
    "order(1, 1)"
   ]
  },
  {
   "attachments": {},
   "cell_type": "markdown",
   "metadata": {},
   "source": [
    "#### Ternärer Operator\n",
    "\n",
    "Hier haben wir einfach nur wieder eine verbereitete Kurzschreibweise – diesmal für ```if```/```else``` durch den Operator ```?:```."
   ]
  },
  {
   "cell_type": "code",
   "execution_count": null,
   "metadata": {},
   "outputs": [],
   "source": [
    "betrag_neu(x) = x >= 0 ? x : -x\n",
    "betrag_neu(-2)"
   ]
  },
  {
   "attachments": {},
   "cell_type": "markdown",
   "metadata": {},
   "source": [
    "Weil der Operator ```?:``` drei Inputs hat, heißt er auch ternärer Operator."
   ]
  },
  {
   "attachments": {},
   "cell_type": "markdown",
   "metadata": {},
   "source": [
    "### Compound Expressions"
   ]
  },
  {
   "attachments": {},
   "cell_type": "markdown",
   "metadata": {},
   "source": [
    "Wenn man mehrere Zeilen Code zusammenfassen möchte, geht das mit ```begin```-Blöcken oder Semikolons (```;```)."
   ]
  },
  {
   "cell_type": "code",
   "execution_count": null,
   "metadata": {},
   "outputs": [],
   "source": [
    "z = begin\n",
    "    x = 1\n",
    "    y = 2\n",
    "    x + y\n",
    "end"
   ]
  },
  {
   "cell_type": "code",
   "execution_count": null,
   "metadata": {},
   "outputs": [],
   "source": [
    "z = (x = 1; y = 2; x + y)"
   ]
  },
  {
   "attachments": {},
   "cell_type": "markdown",
   "metadata": {},
   "source": [
    "Auf diese Weise können wir zum Beispiel eine Funktion mit mehreren Anweisungen in eine Zeile quetschen:"
   ]
  },
  {
   "cell_type": "code",
   "execution_count": null,
   "metadata": {},
   "outputs": [],
   "source": [
    "trick() = (a = rand(); b = randn(); return a + b)\n",
    "trick()"
   ]
  },
  {
   "attachments": {},
   "cell_type": "markdown",
   "metadata": {},
   "source": [
    "Wichtige weitere Kontrollstrukturen gibt es unter anderem beim *exception handling*, also dem Umgang mit Fehlern (etwa via ```try```/```catch```)."
   ]
  }
 ],
 "metadata": {
  "kernelspec": {
   "display_name": "Julia 1.10.0",
   "language": "julia",
   "name": "julia-1.10"
  },
  "language_info": {
   "file_extension": ".jl",
   "mimetype": "application/julia",
   "name": "julia",
   "version": "1.10.0"
  },
  "orig_nbformat": 4
 },
 "nbformat": 4,
 "nbformat_minor": 2
}
