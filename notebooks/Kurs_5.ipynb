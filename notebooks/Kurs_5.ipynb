{
 "cells": [
  {
   "attachments": {},
   "cell_type": "markdown",
   "metadata": {},
   "source": [
    "# Kurs 5"
   ]
  },
  {
   "attachments": {},
   "cell_type": "markdown",
   "metadata": {},
   "source": [
    "Wir setzen mit den bereits bekannten DataFrames ```grades_2020``` und ```grades_2021``` fort:"
   ]
  },
  {
   "cell_type": "code",
   "execution_count": null,
   "metadata": {},
   "outputs": [],
   "source": [
    "using DataFrames, Pipe\n",
    "\n",
    "function grades_2020()\n",
    "    name = [\"Sally\", \"Bob\", \"Alice\", \"Hank\"]\n",
    "    grade_2020 = [1, 5, 8.5, 4]\n",
    "    DataFrame(; name, grade_2020)\n",
    "end\n",
    "\n",
    "function grades_2021() # grades_2020() haben wir schon\n",
    "    name = [\"Kevin\", \"Sally\", \"Hank\"]\n",
    "    grade_2021 = [8, 7, 5.5]\n",
    "    DataFrame(; name, grade_2021)\n",
    "end"
   ]
  },
  {
   "cell_type": "markdown",
   "metadata": {},
   "source": [
    "### Variablen transformieren und anpassen "
   ]
  },
  {
   "attachments": {},
   "cell_type": "markdown",
   "metadata": {},
   "source": [
    "In diesem Beispiel wird der Datensatz ```grades_2020``` via ```plus_1``` transformiert:"
   ]
  },
  {
   "cell_type": "code",
   "execution_count": null,
   "metadata": {},
   "outputs": [],
   "source": [
    "plus_1(grades) = grades .+ 1\n",
    "transform(grades_2020(), :grade_2020 => plus_1)"
   ]
  },
  {
   "attachments": {},
   "cell_type": "markdown",
   "metadata": {},
   "source": [
    "Wird keine target location übergeben, wird automatisch eine neue Spalte erstellt. Falls die alte Spalte überschrieben werden soll, kann man diese als target location auswählen: "
   ]
  },
  {
   "cell_type": "code",
   "execution_count": null,
   "metadata": {},
   "outputs": [],
   "source": [
    "transform(grades_2020(), :grade_2020 => plus_1 => :grade_2020)"
   ]
  },
  {
   "attachments": {},
   "cell_type": "markdown",
   "metadata": {},
   "source": [
    "Alternativ kann man das Argument ```renamecols = false``` setzen:"
   ]
  },
  {
   "cell_type": "code",
   "execution_count": null,
   "metadata": {},
   "outputs": [],
   "source": [
    "transform(grades_2020(), :grade_2020 =>  plus_1; renamecols = false)"
   ]
  },
  {
   "cell_type": "markdown",
   "metadata": {},
   "source": [
    "#### Groupby and Combine\n",
    "\n",
    "Mit Hilfe dieser beider Befehle können Dataframes aufgeteilt und im Anschluss auch wieder zusammengeführt werden.\n"
   ]
  },
  {
   "cell_type": "code",
   "execution_count": null,
   "metadata": {},
   "outputs": [],
   "source": [
    "function all_grades()\n",
    "    df1 = grades_2020()\n",
    "    df1 = select(df1, :name, :grade_2020 => :grade)\n",
    "    df2 = grades_2021()\n",
    "    df2 = select(df2, :name, :grade_2021 => :grade)\n",
    "    return vcat(df1, df2)\n",
    "end\n",
    "all_grades()"
   ]
  },
  {
   "cell_type": "markdown",
   "metadata": {},
   "source": [
    "Die Idee ist nun den obigen DataFrame aufzuteilen und für jeden Schüler den Mittelwert seiner Note zu berechen und anschließend einen DataFrame mit den Durchschnittsnoten auszugeben. \n",
    "\n"
   ]
  },
  {
   "cell_type": "code",
   "execution_count": null,
   "metadata": {},
   "outputs": [],
   "source": [
    "grouped_grades = groupby(all_grades(), :name)"
   ]
  },
  {
   "cell_type": "code",
   "execution_count": null,
   "metadata": {},
   "outputs": [],
   "source": [
    "using Statistics\n",
    "combine(grouped_grades, :grade => mean)"
   ]
  },
  {
   "attachments": {},
   "cell_type": "markdown",
   "metadata": {},
   "source": [
    "### Fehlende Werte\n",
    "\n",
    "In Julia gibt es einen Datentyp ```missing``` für fehlende Werte, der sich bei Rechenoperationen oder Vergleichsoperationen von anderen Datentypen unterscheidet:"
   ]
  },
  {
   "cell_type": "code",
   "execution_count": null,
   "metadata": {},
   "outputs": [],
   "source": [
    "missing * 2"
   ]
  },
  {
   "cell_type": "code",
   "execution_count": null,
   "metadata": {},
   "outputs": [],
   "source": [
    "missing == true"
   ]
  },
  {
   "attachments": {},
   "cell_type": "markdown",
   "metadata": {},
   "source": [
    "Bei einer realen Datenanalyse kommt es aber sehr häufig vor, dass Datenpunkte fehlen, daher müssen wir uns überlegen, wie wir damit sinnvoll umgehen. Betrachte zur Demonstration folgenden DataFrame:"
   ]
  },
  {
   "cell_type": "code",
   "execution_count": null,
   "metadata": {},
   "outputs": [],
   "source": [
    "df_missing = DataFrame(\n",
    "    name = [missing, \"Sally\", \"Alice\", \"Hank\"],\n",
    "    age = [17, missing, 20, 19],\n",
    "    grade_2020 = [5.0, 1.0, missing, 4.0],\n",
    ")"
   ]
  },
  {
   "attachments": {},
   "cell_type": "markdown",
   "metadata": {},
   "source": [
    "Wichtig ist zum Beispiel die Funktion ```dropmissing```. Diese entfernt jede Reihe, in der ein ```missing``` value enthalten ist:"
   ]
  },
  {
   "cell_type": "code",
   "execution_count": null,
   "metadata": {},
   "outputs": [],
   "source": [
    "dropmissing(df_missing)"
   ]
  },
  {
   "attachments": {},
   "cell_type": "markdown",
   "metadata": {},
   "source": [
    "Es können auch nur in bestimmenten Spalten alle ```missing``` werte entfernt werden.  "
   ]
  },
  {
   "cell_type": "code",
   "execution_count": null,
   "metadata": {},
   "outputs": [],
   "source": [
    "dropmissing(df_missing, [:name, :age])"
   ]
  },
  {
   "attachments": {},
   "cell_type": "markdown",
   "metadata": {},
   "source": [
    "```ismissing``` ist eine Funktion, die überprüft, ob der zugrundeliegende Datentyp dem Typ ```Missing``` entspricht und gibt dann dementsprechen ein ```true``` oder ```false``` zurück. Damit können wir zum Beispiel anstelle der Funktion ```dropmissing``` wieder unsere altbekannte Funktion ```filter``` nutzen:"
   ]
  },
  {
   "cell_type": "code",
   "execution_count": null,
   "metadata": {},
   "outputs": [],
   "source": [
    "filter(:name => !ismissing, df_missing)"
   ]
  },
  {
   "cell_type": "code",
   "execution_count": null,
   "metadata": {},
   "outputs": [],
   "source": [
    "dropmissing(df_missing, [:name])"
   ]
  },
  {
   "attachments": {},
   "cell_type": "markdown",
   "metadata": {},
   "source": [
    "Wenn wir hier aber wieder nach zwei Spalten filtern wollen, dann wird es relativ hässlich (aber bitte trotzdem einmal durchdenken!):"
   ]
  },
  {
   "cell_type": "code",
   "execution_count": null,
   "metadata": {},
   "outputs": [],
   "source": [
    "filter([:name, :age] => (x, y) -> all((!).(ismissing.([x, y]))), df_missing)"
   ]
  },
  {
   "cell_type": "markdown",
   "metadata": {},
   "source": [
    "Um fehlende Werte zu überspringen um zum Beispiel die Funktion ```mean``` auf die Spalte ```age``` anwenden zu können, gibt es die Funktion ```skipmissing```. \n"
   ]
  },
  {
   "cell_type": "code",
   "execution_count": null,
   "metadata": {},
   "outputs": [],
   "source": [
    "mean_age = mean(skipmissing(df_missing.age))"
   ]
  },
  {
   "cell_type": "markdown",
   "metadata": {},
   "source": [
    "Oft will man für fehlende Werte durch andere Werte ersetzen, mit denen man besser arbeiten kann. Dies kann etwa mithilfe der Funktion ```coalesce``` erreicht werden: "
   ]
  },
  {
   "cell_type": "code",
   "execution_count": null,
   "metadata": {},
   "outputs": [],
   "source": [
    "coalesce.([missing, \"some value\", missing], \"zero\")"
   ]
  },
  {
   "cell_type": "markdown",
   "metadata": {},
   "source": [
    "Angenommen, wir wollen nun die Werte in der Spalte ```age``` einfach durch das Durchschnittsalter aller anderer Schüler approximieren:"
   ]
  },
  {
   "cell_type": "code",
   "execution_count": null,
   "metadata": {},
   "outputs": [],
   "source": [
    "df_missing"
   ]
  },
  {
   "cell_type": "code",
   "execution_count": null,
   "metadata": {},
   "outputs": [],
   "source": [
    "transform(df_missing, :age => ByRow(x -> coalesce(x, mean_age)); renamecols = false)"
   ]
  },
  {
   "attachments": {},
   "cell_type": "markdown",
   "metadata": {},
   "source": [
    "## Plots"
   ]
  },
  {
   "attachments": {},
   "cell_type": "markdown",
   "metadata": {},
   "source": [
    "### Einführung\n",
    "\n",
    "Es gibt viele verschiedene plotting libraries in Julia; wir geben eine Einführung in die Standardbibliothek [Plots.jl](https://docs.juliaplots.org/stable/). Alternativ empfehlen wir für fortgeschrittene Anwender [Makie.jl](https://docs.makie.org/stable/) und die Einführung [hier](https://juliadatascience.io/DataVisualizationMakie) (hat ein etwas umfasserendes Ökosystem) oder [Gadfly](http://gadflyjl.org/stable/) (ist sehr ähnlich zu ggplot2, sprich ist eine an The Grammar of Graphics orientierte Bibliothek, und sieht per default ziemlich gut aus).\n",
    "\n",
    "Ein Cheatsheet findet man [hier](https://github.com/sswatson/cheatsheets/blob/f0f94a7c9f4442c6e4f852dfad19246cc916e205/plotsjl-cheatsheet.pdf)."
   ]
  },
  {
   "cell_type": "code",
   "execution_count": null,
   "metadata": {},
   "outputs": [],
   "source": [
    "# Die Ausgabe dieses Befehls ist beim ersten Ausführen länger\n",
    "using Pkg; Pkg.add(\"Plots\")"
   ]
  },
  {
   "attachments": {},
   "cell_type": "markdown",
   "metadata": {},
   "source": [
    "Wir starten mit dem einfachen Sinus-plot und erweitern diesen iterativ um verschiedene manuell konfigurierbare Attribute."
   ]
  },
  {
   "cell_type": "code",
   "execution_count": null,
   "metadata": {},
   "outputs": [],
   "source": [
    "using Plots\n",
    "x = range(0, 2*pi, length=100)\n",
    "y = sin.(x)\n",
    "plot(x, y)"
   ]
  },
  {
   "attachments": {},
   "cell_type": "markdown",
   "metadata": {},
   "source": [
    "Hier haben wir jetzt einen (völlig unspektakulären) Standardplot und man kann nun anfangen, diesem Attribute hinzuzufügen, wie zum Bespiel die Beschriftung der Achsen sowie der Kurve selbst: "
   ]
  },
  {
   "cell_type": "code",
   "execution_count": null,
   "metadata": {},
   "outputs": [],
   "source": [
    "x = range(0, 2*pi, length=100)\n",
    "y = sin.(x)\n",
    "plot(x, y,\n",
    "    xlabel = \"Zeit (s)\",\n",
    "    ylabel = \"Distanz (m)\",\n",
    "    label = \"sin(x)\"\n",
    ")"
   ]
  },
  {
   "attachments": {},
   "cell_type": "markdown",
   "metadata": {},
   "source": [
    "Mit Hilfe von ```xticks``` bzw. ```yticks``` kann ein Tupel übergeben werden, welches im ersten Argument einen Array für die Achsenabschnitte und im zweiten Argument einen Array für deren Beschriftung enthält:    "
   ]
  },
  {
   "cell_type": "code",
   "execution_count": null,
   "metadata": {},
   "outputs": [],
   "source": [
    "plot(x, y,\n",
    "    xlabel = \"Zeit (s)\",\n",
    "    ylabel = \"Distanz (m)\",\n",
    "    label = \"sin(x)\", \n",
    "    xticks = ([0, π/2, π, 3π/2, 2π], [\"0\", \"π/2\", \"π\", \"3π/2\", \"2π\"])\n",
    ")"
   ]
  },
  {
   "attachments": {},
   "cell_type": "markdown",
   "metadata": {},
   "source": [
    "Um einen zweiten Plot zu dem bereits bestehenden hinzuzufügen, gibt es verschiedene Möglichkeiten: Falls der Plot im gleichen Fenster sein soll, kann man diesen durch ```plot!``` ganz einfach in dieselbe Grafik einzeichnen: "
   ]
  },
  {
   "cell_type": "code",
   "execution_count": null,
   "metadata": {},
   "outputs": [],
   "source": [
    "plot(x, y1,\n",
    "    xlabel = \"Zeit (s)\",\n",
    "    ylabel = \"Distanz (m)\",\n",
    "    label = \"sin(x)\",\n",
    "    xticks = ([0, π/2, π, 3π/2, 2π], [\"0\", \"π/2\", \"π\", \"3π/2\", \"2π\"])\n",
    ")"
   ]
  },
  {
   "cell_type": "code",
   "execution_count": null,
   "metadata": {},
   "outputs": [],
   "source": [
    "y1 = sin.(x)\n",
    "y2 = cos.(x)\n",
    "plot(x, y1,\n",
    "    xlabel = \"Zeit (s)\",\n",
    "    ylabel = \"Distanz (m)\",\n",
    "    label = \"sin(x)\",\n",
    "    xticks = ([0, π/2, π, 3π/2, 2π], [\"0\", \"π/2\", \"π\", \"3π/2\", \"2π\"])\n",
    ")\n",
    "plot!(x, y2,\n",
    "    label = \"cos(x)\",\n",
    "    title = \"Sinus- und Cosinus-Funktion\"\n",
    ")"
   ]
  },
  {
   "attachments": {},
   "cell_type": "markdown",
   "metadata": {},
   "source": [
    "Falls man zwei verschiedene Fenster für die jeweiligen Plots haben will, kann man zwei seperate plots erstellen und diese mit einem dritten Plotbefehl sowie einer Positionsangabe neben- oder untereinander plotten:"
   ]
  },
  {
   "cell_type": "code",
   "execution_count": null,
   "metadata": {},
   "outputs": [],
   "source": [
    "y1 = sin.(x)\n",
    "y2 = cos.(x)\n",
    "\n",
    "p1 = plot(x, y1,\n",
    "    xlabel = \"Zeit (s)\",\n",
    "    ylabel = \"Distanz (m)\",\n",
    "    label = \"sin(x)\", \n",
    "    xticks = ([0, π/2, π, 3π/2, 2π], [\"0\", \"π/2\", \"π\", \"3π/2\", \"2π\"]),\n",
    "    title = \"Sinus\"\n",
    ")\n",
    "p2 = plot(x, y2,\n",
    "    xlabel = \"Zeit (s)\",\n",
    "    ylabel = \"Distanz (m)\",\n",
    "    label = \"cos(x)\", \n",
    "    xticks = ([0, π/2, π, 3π/2, 2π], [\"0\", \"π/2\", \"π\", \"3π/2\", \"2π\"]),\n",
    "    title = \"Cosinus\"\n",
    ")\n",
    "\n",
    "plot(p1, p2, layout=(2, 1),legend=:outertopright)"
   ]
  },
  {
   "attachments": {},
   "cell_type": "markdown",
   "metadata": {},
   "source": [
    "### Scatterplots"
   ]
  },
  {
   "attachments": {},
   "cell_type": "markdown",
   "metadata": {},
   "source": [
    "Ein weiteres Bespiel aus Plots.jl sind scatter plots. Hierfür laden wir uns zunächst einen klassischen R-Datensatz in Julia und stellen diesen dann Stück für Stück grafisch dar.  \n"
   ]
  },
  {
   "cell_type": "code",
   "execution_count": null,
   "metadata": {},
   "outputs": [],
   "source": [
    "# Die Ausgabe dieses Befehls ist beim ersten Ausführen länger\n",
    "Pkg.add(\"RDatasets\");"
   ]
  },
  {
   "cell_type": "code",
   "execution_count": null,
   "metadata": {},
   "outputs": [],
   "source": [
    "using DataFrames\n",
    "using RDatasets\n",
    "\n",
    "# ein Klassiker\n",
    "iris = dataset(\"datasets\", \"iris\")\n",
    "first(iris,10)"
   ]
  },
  {
   "attachments": {},
   "cell_type": "markdown",
   "metadata": {},
   "source": [
    "Wir erstellen einen ersten Scatterplot über die beiden Spalten ```PetalLength``` und ```SepalWidth```:"
   ]
  },
  {
   "cell_type": "code",
   "execution_count": null,
   "metadata": {},
   "outputs": [],
   "source": [
    "scatter(iris.SepalLength, iris.SepalWidth)"
   ]
  },
  {
   "attachments": {},
   "cell_type": "markdown",
   "metadata": {},
   "source": [
    "Alternativ könnten wir auch den normalen `plot`-Befehl in Verbindung mit `seriestype = :scatter` nutzen. Auch hier könnten analog zum obigen Bespiel erstmal die Achsen beschriftet werden. Stattdessen sollen hier aber die Punkte anhand eines gewissen Attributs gruppiert werden. Hierfür nehmen wir uns die Spalte ```Species```. "
   ]
  },
  {
   "cell_type": "code",
   "execution_count": null,
   "metadata": {},
   "outputs": [],
   "source": [
    "scatter(iris.SepalLength, iris.SepalWidth, \n",
    "    xlabel = \"iris Länge\",\n",
    "    ylabel = \"iris Breite\",\n",
    "    group = iris.Species\n",
    ")"
   ]
  },
  {
   "attachments": {},
   "cell_type": "markdown",
   "metadata": {},
   "source": [
    "Die Farbe und Größe der Datenpunkte, orientiert anhand einer bestimmten Kategorie des Datensatzes, können ebenfalls leicht verändert/hinzugefügt werden, um weitere Attribute des Datensatzes in den Plot zu integrieren. "
   ]
  },
  {
   "cell_type": "code",
   "execution_count": null,
   "metadata": {},
   "outputs": [],
   "source": [
    "scatter(iris.SepalLength, iris.SepalWidth, \n",
    "    xlabel = \"iris Länge\",\n",
    "    ylabel = \"iris Breite\",\n",
    "    group = iris.Species, \n",
    "    markercolor = [:firebrick :lightseagreen :magenta],\n",
    "    markersize = iris.PetalWidth*5 \n",
    ")"
   ]
  },
  {
   "cell_type": "markdown",
   "metadata": {},
   "source": [
    "Auch hier können noch viele weitere Attribute ergänzt werden, diese findet man in [diesem](https://docs.juliaplots.org/latest/attributes/) und den folgenden Abschnitten der Dokumentation.\n",
    "\n",
    "Als letztes Beispiel aus Plots.jl ist hier noch ein Histogramm bei dem einige andere Attribute des Histogramms, wie Farbe der Plots oder *bins*, angepasst sind. Zudem werden hier auch zwei unterschiedlich plot-Typen kombiniert: "
   ]
  },
  {
   "cell_type": "code",
   "execution_count": null,
   "metadata": {},
   "outputs": [],
   "source": [
    "x = randn(10^3)  \n",
    "histogram(x)"
   ]
  },
  {
   "cell_type": "code",
   "execution_count": null,
   "metadata": {},
   "outputs": [],
   "source": [
    "p(x) = 1/sqrt(2pi) * exp(-x^2/2)\n",
    "b_range = range(-5, 5, length=21)\n",
    "\n",
    "histogram(x, label=\"Experimental\", bins=b_range, normalize=:pdf, color=:gray)\n",
    "plot!(p, label=\"Analytical\", lw=3, color=:red)\n",
    "xlims!(-5, 5)\n",
    "ylims!(0, 0.4)\n",
    "title!(\"Normal distribution, 1000 samples\")\n",
    "xlabel!(\"x\")\n",
    "ylabel!(\"P(x)\")"
   ]
  }
 ],
 "metadata": {
  "kernelspec": {
   "display_name": "Julia 1.10.0",
   "language": "julia",
   "name": "julia-1.10"
  },
  "language_info": {
   "file_extension": ".jl",
   "mimetype": "application/julia",
   "name": "julia",
   "version": "1.10.0"
  },
  "orig_nbformat": 4,
  "vscode": {
   "interpreter": {
    "hash": "b0fa6594d8f4cbf19f97940f81e996739fb7646882a419484c72d19e05852a7e"
   }
  }
 },
 "nbformat": 4,
 "nbformat_minor": 2
}
