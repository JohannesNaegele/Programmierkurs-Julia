{
 "cells": [
  {
   "cell_type": "markdown",
   "metadata": {},
   "source": [
    "# Kurs 1"
   ]
  },
  {
   "cell_type": "markdown",
   "metadata": {},
   "source": [
    "## Vorwort\n",
    "\n",
    "In diesem Kurs wollen wir in die Programmiersprache Julia einsteigen. Warum gerade Julia? Die kurze Antwort wäre wohl: Julia ist genauso praktisch wie Python, aber gleichzeitig so schnell wie C.\n",
    "Eine etwas längere Antwort könnt ihr euch vielleicht nach diesem Kurs selbst geben (Spoiler: Julia ist auch in vielerlei anderer Hinsicht ziemlich cool).\n",
    "\n",
    "Grundsätzlich sollte es definitiv möglich sein, mit wenig oder sogar gar keiner Programmiervorkenntnis zu starten. Wir versuchen aber, euch trotzdem nicht zu langweilen und zumindest einen kleinen Vorgeschmack auf die große weite (und schöne) Welt der Programmierung zu geben. Jedenfalls gilt: Wenn ihr irgendwo nicht mehr weiterkommt oder Erklärungen unklar sind, dann sagt Bescheid – Rückmeldung ist sowieso immer willkommen!"
   ]
  },
  {
   "cell_type": "markdown",
   "metadata": {},
   "source": [
    "## Arithmetik und Operatoren\n",
    "\n",
    "Als allererstes wollen wir uns einfache Beispiele für Arithmetik anschauen:"
   ]
  },
  {
   "cell_type": "code",
   "execution_count": null,
   "metadata": {},
   "outputs": [],
   "source": [
    "# Addition\n",
    "4 + 4"
   ]
  },
  {
   "cell_type": "code",
   "execution_count": null,
   "metadata": {},
   "outputs": [],
   "source": [
    "# Subtraktion\n",
    "1.5 - 0.5"
   ]
  },
  {
   "cell_type": "code",
   "execution_count": null,
   "metadata": {},
   "outputs": [],
   "source": [
    "# Potenz\n",
    "4^3"
   ]
  },
  {
   "cell_type": "code",
   "execution_count": null,
   "metadata": {},
   "outputs": [],
   "source": [
    "# Modulo\n",
    "4 % 3"
   ]
  },
  {
   "cell_type": "markdown",
   "metadata": {},
   "source": [
    "Wie man vielleicht bereits gesehen hat, wird Code, der hinter einem ```#``` steht, nicht ausgeführt. Dies nennt man einen Kommentar:"
   ]
  },
  {
   "cell_type": "code",
   "execution_count": null,
   "metadata": {},
   "outputs": [],
   "source": [
    "# Mit Kommentaren können wir Code erklären, dokumentieren und lesbarer machen"
   ]
  },
  {
   "cell_type": "markdown",
   "metadata": {},
   "source": [
    "## Variablen"
   ]
  },
  {
   "cell_type": "markdown",
   "metadata": {},
   "source": [
    "Im Folgenden wird einer Variablen ```x``` der Wert ```4``` zugewiesen."
   ]
  },
  {
   "cell_type": "code",
   "execution_count": null,
   "metadata": {},
   "outputs": [],
   "source": [
    "x = 4"
   ]
  },
  {
   "cell_type": "markdown",
   "metadata": {},
   "source": [
    "Wir können Variablen wie (zum Beispiel) Zahlen verwenden, Operationen damit verhalten sich genauso:"
   ]
  },
  {
   "cell_type": "code",
   "execution_count": null,
   "metadata": {},
   "outputs": [],
   "source": [
    "y = 6\n",
    "(x + y)^2"
   ]
  },
  {
   "cell_type": "markdown",
   "metadata": {},
   "source": [
    "In Julia gibt es viele Kurzschreibweisen, die relativ praktisch sind. Ein Beispiel wäre ```a += b``` was zu ```a = a + b``` äquivalent ist."
   ]
  },
  {
   "cell_type": "code",
   "execution_count": null,
   "metadata": {},
   "outputs": [],
   "source": [
    "z = 1\n",
    "z += 1"
   ]
  },
  {
   "cell_type": "markdown",
   "metadata": {},
   "source": [
    "Elementar ist auch die Funktion ```println```. Diese printet (druckt) uns direkt den Wert eines eingegebenen Arguments in die Konsole:"
   ]
  },
  {
   "cell_type": "code",
   "execution_count": null,
   "metadata": {},
   "outputs": [],
   "source": [
    "txt = \"Hallo\"\n",
    "println(1)\n",
    "println(x)\n",
    "println(z)\n",
    "println(txt)"
   ]
  },
  {
   "cell_type": "markdown",
   "metadata": {},
   "source": [
    "## Strings"
   ]
  },
  {
   "cell_type": "markdown",
   "metadata": {},
   "source": [
    "Das ```\"Hallo\"``` im obigen Codeblock nennt man einen String. Wenn wir also Anführungszeichen setzen, können wir quasi normalen Text als Wert bzw. Variablenbelegung verwenden. Mit der Funktion ```string``` können wir außerdem Werte in Strings umwandeln (conversion) bzw. Strings zusammenfügen (string concatenation)."
   ]
  },
  {
   "cell_type": "code",
   "execution_count": null,
   "metadata": {},
   "outputs": [],
   "source": [
    "string(1) # conversion"
   ]
  },
  {
   "cell_type": "code",
   "execution_count": null,
   "metadata": {},
   "outputs": [],
   "source": [
    "apples = 3\n",
    "sentence = \"Ich habe übrigens \"\n",
    "string(sentence, apples, \" Äpfel\") # concatenation"
   ]
  },
  {
   "cell_type": "markdown",
   "metadata": {},
   "source": [
    "Ein bisschen hübscher geht es allerdings mit sogenannter *string interpolation*. Das bedeutet: Wir können mittels ```$``` Werte direkt in einen String einfügen:"
   ]
  },
  {
   "cell_type": "code",
   "execution_count": null,
   "metadata": {},
   "outputs": [],
   "source": [
    "apples = 3\n",
    "head = \"Ich habe übrigens $(apples)\" # string interpolation\n",
    "head * \" Äpfel\" # Kurzschreibweise: concatenation mit *"
   ]
  },
  {
   "cell_type": "markdown",
   "metadata": {},
   "source": [
    "## Arrays"
   ]
  },
  {
   "cell_type": "markdown",
   "metadata": {},
   "source": [
    "Ein Array ist eine Sammlung von Objekten, die in einem mehrdimensionalen Gitter gehalten werden. In Julia sind Arrays extrem mächtig, deshalb werden wir hier ein bisschen Zeit investieren. Unser erstes Beispiel ist aber ganz simpel ein ```Vector```, also ein eindimensionaler Array, mit den Elementen 1, 2, 3, 4:"
   ]
  },
  {
   "cell_type": "code",
   "execution_count": null,
   "metadata": {},
   "outputs": [],
   "source": [
    "# (Spalten-)Vektor\n",
    "x = [1, 2, 3, 4]"
   ]
  },
  {
   "cell_type": "markdown",
   "metadata": {},
   "source": [
    "Arrays können nicht nur Zahlen, sondern auch alle möglichen anderen Datentypen (und somit auch andere Arrays) enthalten:"
   ]
  },
  {
   "cell_type": "code",
   "execution_count": null,
   "metadata": {},
   "outputs": [],
   "source": [
    "[] # leerer Array"
   ]
  },
  {
   "cell_type": "code",
   "execution_count": null,
   "metadata": {},
   "outputs": [],
   "source": [
    "[1, 2, \"Hello\", 3.0, 4.0, \"World\"]"
   ]
  },
  {
   "cell_type": "code",
   "execution_count": null,
   "metadata": {},
   "outputs": [],
   "source": [
    "a = [[1, 2], [3, 4]]"
   ]
  },
  {
   "cell_type": "markdown",
   "metadata": {},
   "source": [
    "Wenn die Argumente in den eckigen Klammern durch einzelne Semikolons (```;```) oder neue Zeilen abgetrennt sind, dann werden diese nicht mehr als Elemente betrachtet, sondern deren Inhalte *vertikal* aneinandergehängt."
   ]
  },
  {
   "cell_type": "code",
   "execution_count": null,
   "metadata": {},
   "outputs": [],
   "source": [
    "# Vergleiche mit vorhergehendem Beispiel!\n",
    "b = [[1, 2]; [3, 4]]"
   ]
  },
  {
   "cell_type": "markdown",
   "metadata": {},
   "source": [
    "Ähnlich funktioniert die Trennung der Argumente durch Tabs oder Leerzeichen. Dann werden deren Inhalte nämlich *horizontal* zusammengefügt:"
   ]
  },
  {
   "cell_type": "code",
   "execution_count": null,
   "metadata": {},
   "outputs": [],
   "source": [
    "# Vergleiche mit vorhergehendem Beispiel!\n",
    "c = [[1, 2] [3, 4]] # Achtung: Länge der Argumente muss gleich sein!"
   ]
  },
  {
   "cell_type": "code",
   "execution_count": null,
   "metadata": {},
   "outputs": [],
   "source": [
    "# Zeilenvektor 1x4\n",
    "y = [1 2 3 4]"
   ]
  },
  {
   "cell_type": "markdown",
   "metadata": {},
   "source": [
    "Wenn wir diese Konzepte kombinieren, dann können wir uns weiter an höherdimensionale Arrays herantasten: Hier kommt der einfachste Weg, um händisch eine Matrix zu definieren. Durch die Leerzeichen bekommt man Zeilenvektoren, durch das Semikolon werden diese untereinander in eine Matrix gepackt:"
   ]
  },
  {
   "cell_type": "code",
   "execution_count": null,
   "metadata": {},
   "outputs": [],
   "source": [
    "mat = [1 2; 3 4]"
   ]
  },
  {
   "cell_type": "markdown",
   "metadata": {},
   "source": [
    "Für die, die es genauer wissen wollen: Auch hier verwenden wir eigentlich wieder Kurzschreibweisen; die umständliche Variante sieht so aus:"
   ]
  },
  {
   "cell_type": "code",
   "execution_count": null,
   "metadata": {},
   "outputs": [],
   "source": [
    "# vcat: vertical concatenation, hcat: horizontal concatenation\n",
    "vcat(hcat(1, 2), hcat(3, 4))"
   ]
  },
  {
   "cell_type": "markdown",
   "metadata": {},
   "source": [
    "Dabei sind ```vcat``` und ```hcat``` Spezialfälle der Funktion ```cat```, die wir später noch kennenlernen werden."
   ]
  },
  {
   "cell_type": "markdown",
   "metadata": {},
   "source": [
    "### Lineare Algebra"
   ]
  },
  {
   "cell_type": "markdown",
   "metadata": {},
   "source": [
    "Für die Erstellung einer Einheitsmatrix laden wir noch ein zusätzliches Modul aus Julias Standardbibliothek:"
   ]
  },
  {
   "cell_type": "code",
   "execution_count": null,
   "metadata": {},
   "outputs": [],
   "source": [
    "using LinearAlgebra # für Operator I\n",
    "3I(4)"
   ]
  },
  {
   "cell_type": "markdown",
   "metadata": {},
   "source": [
    "Mit Vektoren und Matrizen können wir dann wie gewohnt Addition und Multiplikation rechnen:"
   ]
  },
  {
   "cell_type": "code",
   "execution_count": null,
   "metadata": {},
   "outputs": [],
   "source": [
    "z = [0, 2]\n",
    "println(x + x)\n",
    "println(mat + mat)\n",
    "println(mat * z)"
   ]
  },
  {
   "cell_type": "markdown",
   "metadata": {},
   "source": [
    "Wichtige Operationen sind auch:"
   ]
  },
  {
   "cell_type": "code",
   "execution_count": null,
   "metadata": {},
   "outputs": [],
   "source": [
    "# Matrixinversion\n",
    "mat^(-1) * mat # wegen numerischer Ungenauigkeit nicht genau I(2)"
   ]
  },
  {
   "cell_type": "code",
   "execution_count": null,
   "metadata": {},
   "outputs": [],
   "source": [
    "# Löse LGS: mat * ? = z\n",
    "mat\\z"
   ]
  },
  {
   "cell_type": "markdown",
   "metadata": {},
   "source": [
    "### Indexierung\n",
    "Man kann über Indizes gezielt auf ein Element in einem Array zugreifen:"
   ]
  },
  {
   "cell_type": "code",
   "execution_count": null,
   "metadata": {},
   "outputs": [],
   "source": [
    "mat_index = [1 2 \"Hello\"; 3 4 \"World\"]\n",
    "mat_index[1, 3]"
   ]
  },
  {
   "cell_type": "markdown",
   "metadata": {},
   "source": [
    "Für mehrere Elemente gibt zahlreiche weitere Möglichkeiten der Indizierung:"
   ]
  },
  {
   "cell_type": "code",
   "execution_count": null,
   "metadata": {},
   "outputs": [],
   "source": [
    "# Zeile 1 und Spalte 1-2:\n",
    "println(mat_index[1, 1:2])\n",
    "# Elemente über einen Vektor von Indizes spezifizieren\n",
    "println(mat_index[1, [1,3]])\n",
    "# die komplette (erste) Spalte ausgeben\n",
    "println(mat_index[:, 1])\n",
    "# den letzten Wert einer Zeile ausgeben\n",
    "println(mat_index[2, end])"
   ]
  },
  {
   "cell_type": "markdown",
   "metadata": {},
   "source": [
    "Hierbei taucht auch erstmal der wichtige Sonderfall eines Arrays – nämlich die sogenannte Range – auf. Dabei beinhaltet dieser Array `a:step:b` die Zahlen $a,a+\\operatorname{step},...,b$."
   ]
  },
  {
   "cell_type": "markdown",
   "metadata": {},
   "source": [
    "### Elemente hinzufügen oder verändern \n",
    "\n",
    "Betrachten wir wieder einen einfachen eindimensionalen Array:"
   ]
  },
  {
   "cell_type": "code",
   "execution_count": null,
   "metadata": {},
   "outputs": [],
   "source": [
    "x = [1, [2, 3], \"hello\"]"
   ]
  },
  {
   "cell_type": "code",
   "execution_count": null,
   "metadata": {},
   "outputs": [],
   "source": [
    "# gezielt ein Element verändern (slicing)\n",
    "x[1] = 2\n",
    "println(x)"
   ]
  },
  {
   "cell_type": "code",
   "execution_count": null,
   "metadata": {},
   "outputs": [],
   "source": [
    "# Arrays aneinanderhängen \n",
    "y = [x, x]"
   ]
  },
  {
   "cell_type": "code",
   "execution_count": null,
   "metadata": {},
   "outputs": [],
   "source": [
    "# ein Element am Schluss hinzufügen\n",
    "push!(x, 4)"
   ]
  },
  {
   "cell_type": "code",
   "execution_count": null,
   "metadata": {},
   "outputs": [],
   "source": [
    "# ein Element am Anfang hinzufügen \n",
    "pushfirst!(x, \"Z\")"
   ]
  },
  {
   "cell_type": "code",
   "execution_count": null,
   "metadata": {},
   "outputs": [],
   "source": [
    "# entferne und ersetze Elemente an einer genauen Position \n",
    "splice!(x, 3:4, [1, 5, 10])\n",
    "println(x)"
   ]
  },
  {
   "cell_type": "markdown",
   "metadata": {},
   "source": [
    "Analog gibt es die Funktionen ```pop!```, ```popfirst!``` und ```deletat!``` um Elemente zu entfernen."
   ]
  },
  {
   "cell_type": "markdown",
   "metadata": {},
   "source": [
    "### Werkzeuge für mehrdimensionale Arrays"
   ]
  },
  {
   "cell_type": "markdown",
   "metadata": {},
   "source": [
    "Im Grunde genommen funktioniert für mehrdimensionale Arrays alles analog:"
   ]
  },
  {
   "cell_type": "code",
   "execution_count": null,
   "metadata": {},
   "outputs": [],
   "source": [
    "twodim1 = [1 2 \"Hello\"; 3 4 \"Geeks\"]\n",
    "twodim2 = [5 6 7; 8 9 10]"
   ]
  },
  {
   "cell_type": "code",
   "execution_count": null,
   "metadata": {},
   "outputs": [],
   "source": [
    "# gezielt Elemente verändern (slicing)\n",
    "twodim1[1, 1] = 7\n",
    "twodim1"
   ]
  },
  {
   "cell_type": "code",
   "execution_count": null,
   "metadata": {},
   "outputs": [],
   "source": [
    "# Arrays vertikal aneinanderhängen (aufpassen mit Dimensionen!)\n",
    "[twodim1; twodim2]"
   ]
  },
  {
   "cell_type": "code",
   "execution_count": null,
   "metadata": {},
   "outputs": [],
   "source": [
    "# Arrays horizontal aneinanderhängen (aufpassen mit Dimensionen!)\n",
    "[twodim1 twodim2]"
   ]
  },
  {
   "cell_type": "markdown",
   "metadata": {},
   "source": [
    "Dementsprechend werden im Folgenden aber *nicht* die Elemente der einzelnen Arrays aneinandergehängt, sondern die einzelnen Arrays quasi wieder als Elemente aufgefasst:"
   ]
  },
  {
   "cell_type": "code",
   "execution_count": null,
   "metadata": {},
   "outputs": [],
   "source": [
    "# erzeugt zweidimensionalen Array mit den jeweiligen Arrays als Einträgen\n",
    "[twodim1, twodim2]"
   ]
  },
  {
   "cell_type": "markdown",
   "metadata": {},
   "source": [
    "Mithilfe der Funktion ```cat``` können wir zudem höherdimensionale Arrays bauen:"
   ]
  },
  {
   "cell_type": "code",
   "execution_count": null,
   "metadata": {},
   "outputs": [],
   "source": [
    "# Erstellung eines 3D-Arrays\n",
    "multidim = cat(\n",
    "    [1 2 3; 3 4 5; 5 6 7],\n",
    "    [\"a\" \"b\" \"c\"; \"c\" \"d\" \"e\"; \"e\" \"f\" \"g\"],\n",
    "    dims = 3\n",
    ")"
   ]
  },
  {
   "cell_type": "code",
   "execution_count": null,
   "metadata": {},
   "outputs": [],
   "source": [
    "# Indexierung genau wie in den anderen Fällen\n",
    "multidim[1, 3, 1]"
   ]
  },
  {
   "cell_type": "markdown",
   "metadata": {},
   "source": [
    "Weitere nützliche Funktionen sind:"
   ]
  },
  {
   "cell_type": "code",
   "execution_count": null,
   "metadata": {},
   "outputs": [],
   "source": [
    "# Umformung der Matrix zu einem Vektor\n",
    "vec(twodim1)"
   ]
  },
  {
   "cell_type": "code",
   "execution_count": null,
   "metadata": {},
   "outputs": [],
   "source": [
    "# Umformung zu einer Matrix mit anderen Dimensionen\n",
    "reshape(twodim1, (3, 2))"
   ]
  },
  {
   "cell_type": "code",
   "execution_count": null,
   "metadata": {},
   "outputs": [],
   "source": [
    "println(length(x)) # Länge\n",
    "println(size(multidim)) # Dimensionen\n",
    "println(zeros(3, 3)) # Matrix mit Nullen\n",
    "println(ones(3, 3)) # Matrix mit Einsen"
   ]
  },
  {
   "cell_type": "markdown",
   "metadata": {},
   "source": [
    "## Broadcasting"
   ]
  },
  {
   "cell_type": "markdown",
   "metadata": {},
   "source": [
    "Funktionen können punktweise angewendet werden, indem hinter den Funktionsnamen noch ein ```.``` ergänzt wird."
   ]
  },
  {
   "cell_type": "code",
   "execution_count": null,
   "metadata": {},
   "outputs": [],
   "source": [
    "exp.([0, 1, 2])"
   ]
  },
  {
   "cell_type": "markdown",
   "metadata": {},
   "source": [
    "Eigentlich ist dieser einzelne ```.``` nur eine Kurzschreibweise für ein allgemeineres Konzept, das man *broadcasting* nennt. Das hier wäre derselbe Befehl ohne Kurzschreibweise:"
   ]
  },
  {
   "cell_type": "code",
   "execution_count": null,
   "metadata": {},
   "outputs": [],
   "source": [
    "broadcast(exp, [0, 1, 2])"
   ]
  },
  {
   "cell_type": "markdown",
   "metadata": {},
   "source": [
    "Der eigentliche Sinn erschließt sich uns aber erst bei Inputs ungleicher Länge."
   ]
  },
  {
   "cell_type": "code",
   "execution_count": null,
   "metadata": {},
   "outputs": [],
   "source": [
    "# 3x1 + 1x1\n",
    "[0, 1, 2] .+ 1"
   ]
  },
  {
   "cell_type": "code",
   "execution_count": null,
   "metadata": {},
   "outputs": [],
   "source": [
    "broadcast(+, 1, [0, 1, 2])"
   ]
  },
  {
   "cell_type": "markdown",
   "metadata": {},
   "source": [
    "Man kann sich ```broadcast``` ungefähr so vorstellen: für die verschiedenen Inputs wird gecheckt, ob man sie auf gemeinsame Dimensionen bringen kann, indem man Koordinaten mit Länge 1 verlängert. Derart bekommt man"
   ]
  },
  {
   "cell_type": "code",
   "execution_count": null,
   "metadata": {},
   "outputs": [],
   "source": [
    "# 4x1 + 1x4\n",
    "[1, 2, 3, 4] .+ [10 20 30 40]"
   ]
  },
  {
   "cell_type": "code",
   "execution_count": null,
   "metadata": {},
   "outputs": [],
   "source": [
    "# 4x1 + 1x4\n",
    "I(4) .+ [10 20 30 40]"
   ]
  },
  {
   "cell_type": "markdown",
   "metadata": {},
   "source": [
    "## Typen"
   ]
  },
  {
   "cell_type": "markdown",
   "metadata": {},
   "source": [
    "Grundsätzlich hat in Julia jeder Wert (value) einen bestimmten Typ, einige davon haben wir bereits kennen gelernt:"
   ]
  },
  {
   "cell_type": "code",
   "execution_count": null,
   "metadata": {},
   "outputs": [],
   "source": [
    "# Integer\n",
    "typeof(2)"
   ]
  },
  {
   "cell_type": "code",
   "execution_count": null,
   "metadata": {},
   "outputs": [],
   "source": [
    "# Float\n",
    "typeof(2.0)"
   ]
  },
  {
   "cell_type": "code",
   "execution_count": null,
   "metadata": {},
   "outputs": [],
   "source": [
    "# String\n",
    "typeof(\"2\")"
   ]
  },
  {
   "cell_type": "code",
   "execution_count": null,
   "metadata": {},
   "outputs": [],
   "source": [
    "# Array\n",
    "typeof([1, 2, 3])"
   ]
  },
  {
   "cell_type": "markdown",
   "metadata": {},
   "source": [
    "Variablen sind lediglich *bindings* – also quasi Platzhalter für Werte. Somit hat hat auch unser Array ```x``` einen Typ, dieser kann sich aber durch neue Belegung ändern:"
   ]
  },
  {
   "cell_type": "code",
   "execution_count": null,
   "metadata": {},
   "outputs": [],
   "source": [
    "typeof(x)"
   ]
  },
  {
   "cell_type": "code",
   "execution_count": null,
   "metadata": {},
   "outputs": [],
   "source": [
    "x = 1\n",
    "typeof(x)"
   ]
  },
  {
   "cell_type": "markdown",
   "metadata": {},
   "source": [
    "## Style Guide\n",
    "\n",
    "Generell gilt beim Programmieren: Nur dokumentierter Code ist guter Code. Man hat nämlich herzlich wenig davon, wenn man nach einem halben Jahr seinen eigenen Code nicht mehr versteht – ganz zu schweigen von irgendwelchen Dritten, die sich dann damit rumschlagen müssen. Das Thema Dokumentation sprengt in seiner Fülle zwar unseren Rahmen, aber Kommentare im Code sind dabei so oder so obligatorisch! Daneben gibt es für jede Programmiersprache eigene good practises, wie man Code aufschreiben sollte.\n",
    "\n",
    "### Variablenbenennung\n",
    "\n",
    "Wir folgen hier dem [Julia Style Guide](https://docs.julialang.org/en/v1/manual/style-guide/) und empfehlen, sich auch für die Programmieraufgaben daran zu orientieren.\n",
    "\n",
    "- Kleinschreibung (lower case) für Variablen; falls schwer lesbar: Trennung mit ```_```\n",
    "- Typen und Module werden mit Großbuchstaben begonnen und getrennt (upper camel case): ```BeispielTyp```\n",
    "- Funktionen und Makros in lower case\n",
    "- Mutating functions (Funktionen, die den Input bearbeiten können) mit ```!``` am Ende\n",
    "\n",
    "Ausführlichere Vorgaben und Beispiele liefert das [Blue Style Guide](https://github.com/invenia/BlueStyle). Ganz hilfreich sind hieraus noch die Empfehlungen\n",
    "\n",
    "- Vermeide unnötige spaces in Klammern. Schreibe also ```string(1, 2)``` anstelle von ```string( 1 , 2 )```\n",
    "- Wann immer angemessen, umgebe Binäroperatoren mit space, wie etwa ```1 == 2``` oder ```y = x + 1```.\n",
    "\n",
    "Dann muss man sich nämlich nicht mit Hässlichkeiten wie ```print( x +y )``` herumschlagen.\n",
    "\n",
    "### Zeichenkodierung\n",
    "\n",
    "Last but not least: In fast allen Programmiersprachen ist es ein absolutes No-Go in Zeichen zu codieren, die nicht ASCII-Characters sind (also etwa Umlaute), Julia ist hier allerdings eine schöne Ausnahme. In der Dokumentation [steht dazu](https://docs.julialang.org/en/v1/manual/variables/):\n",
    "\n",
    "Variable names must begin with a letter (A-Z or a-z), underscore, or a subset of Unicode code points greater than 00A0; in particular, Unicode character categories Lu/Ll/Lt/Lm/Lo/Nl (letters), Sc/So (currency and other symbols), and a few other letter-like characters (e.g. a subset of the Sm math symbols) are allowed. Subsequent characters may also include ! and digits (0-9 and other characters in categories Nd/No), as well as other Unicode code points: diacritics and other modifying marks (categories Mn/Mc/Me/Sk), some punctuation connectors (category Pc), primes, and a few other characters.\n",
    "\n",
    "Wie immer gilt: Nicht alles was geht, ist auch per se eine gute Idee. Beispielsweise ist vermutlich folgende Variablenbenennung nicht unbedingt sinnvoll:"
   ]
  },
  {
   "cell_type": "code",
   "execution_count": null,
   "metadata": {},
   "outputs": [],
   "source": [
    "😇 = 1"
   ]
  },
  {
   "cell_type": "markdown",
   "metadata": {},
   "source": [
    "Gerade im Kontext von Mathematik-naher Programmierung sind aber beispielsweise griechische Symbole extrem praktisch. Derartige Symbole können durch die Eingabe in LaTeX-Schreibweise  (z. B. ```\\lambda```) und anschließendes Drücken von Tab eingefügt werden (ausführliche Liste [hier](https://docs.julialang.org/en/v1/manual/unicode-input/))."
   ]
  },
  {
   "cell_type": "code",
   "execution_count": null,
   "metadata": {},
   "outputs": [],
   "source": [
    "# so macht man es in den meisten Programmiersprachen\n",
    "lambda = 2\n",
    "# vs. in Julia\n",
    "λ = 2"
   ]
  }
 ],
 "metadata": {
  "kernelspec": {
   "display_name": "Julia 1.10.0",
   "language": "julia",
   "name": "julia-1.10"
  },
  "language_info": {
   "file_extension": ".jl",
   "mimetype": "application/julia",
   "name": "julia",
   "version": "1.10.0"
  }
 },
 "nbformat": 4,
 "nbformat_minor": 2
}
