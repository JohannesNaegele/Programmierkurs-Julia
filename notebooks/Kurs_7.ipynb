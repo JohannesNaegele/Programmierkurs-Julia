{
 "cells": [
  {
   "attachments": {},
   "cell_type": "markdown",
   "metadata": {},
   "source": [
    "# Kurs 7"
   ]
  },
  {
   "attachments": {},
   "cell_type": "markdown",
   "metadata": {},
   "source": [
    "## Metaprogramming\n",
    "\n",
    "Der Begriff Metaprogramming heißt soviel wie: Code, der Code generiert. Eine der schönen Eigenschaften von Julia ist, dass Metaprogramming hier sehr elegant funktioniert. In Sprachen wie C++ ist das immer absolut nervig, weil man sozusagen einen extra Überbau über die Sprache benötigt, der den Code manipuliert, *bevor* er kompiliert wird. Insbesondere also *bevor* der kompilierte Code ausgeführt werden kann. Das sind dann sogenannte preprocessor directives.\n",
    "\n",
    "In Julia verwendet man stattdessen sogenannte Makros. Der große Vorteil gegenüber zu etwa C++ ist, dass man hier durch den JIT beispielsweise einen Variablennahmen mit regex *zur Laufzeit* erzeugen und dann im nächsten Schritt ein Makro zur Generierung von neuem Code mit dem Variablennahmen verwenden kann. Das heißt im Klartext: Diese strikte Trennung von Codeerzeugung und Codeausführung gibt es nicht mehr.\n",
    "\n",
    "Offtopic erklärt das ganz gut den (mehr oder weniger lustigen) Witz vom Julia-Mitentwickler Jeff Bezanson, der Name Julia könne auch für \"Jeff's uncommon lisp is automated\" stehen. Lisp ist nämlich eine Programmiersprache deren Stärke insbesondere das Metaprogramming ist. Julias Funktionalität in diesem Bereich kommt also nicht von ungefähr."
   ]
  },
  {
   "attachments": {},
   "cell_type": "markdown",
   "metadata": {},
   "source": [
    "### Expressions\n",
    "\n",
    "Um diese kleine Vorbemerkung ein bisschen plastischer zu machen, begeben wir uns nun auf eine Mini-Reise durch die Ausführungschritte von Julia-Code (ausführlichere Infos [hier](https://docs.julialang.org/en/v1/devdocs/eval/)). Wenn wir in Julia eine Zeile Code eingeben, dann haben wir zunächst ja einfach nur Text, also einen String. Dieser wird dann in eine `Expr` (expression) umgewandelt. Das nennt man `parsen`:"
   ]
  },
  {
   "cell_type": "code",
   "execution_count": 11,
   "metadata": {},
   "outputs": [
    {
     "data": {
      "text/plain": [
       ":(1 + 2)"
      ]
     },
     "metadata": {},
     "output_type": "display_data"
    }
   ],
   "source": [
    "input_expr = Meta.parse(\"1 + 2\")"
   ]
  },
  {
   "cell_type": "code",
   "execution_count": 13,
   "metadata": {},
   "outputs": [
    {
     "data": {
      "text/plain": [
       "Expr"
      ]
     },
     "metadata": {},
     "output_type": "display_data"
    }
   ],
   "source": [
    "input_expr |> typeof"
   ]
  },
  {
   "attachments": {},
   "cell_type": "markdown",
   "metadata": {},
   "source": [
    "Unsere expression wird schlussendlich in ausführbaren Maschinencode übersetzt und ausgeführt:"
   ]
  },
  {
   "cell_type": "code",
   "execution_count": 34,
   "metadata": {},
   "outputs": [
    {
     "data": {
      "text/plain": [
       "3"
      ]
     },
     "metadata": {},
     "output_type": "display_data"
    }
   ],
   "source": [
    "eval(input_expr) # Nebenbemerkung: eval läuft IMMER in der global scope!"
   ]
  },
  {
   "attachments": {},
   "cell_type": "markdown",
   "metadata": {},
   "source": [
    "Wenn wir jetzt aber nochmal einen Schritt zurück machen, dann sehen wir, dass in der `Expr` unser Eingabetext in eine hierarchische Baumstruktur gebracht wurde:"
   ]
  },
  {
   "cell_type": "code",
   "execution_count": 16,
   "metadata": {},
   "outputs": [
    {
     "name": "stdout",
     "output_type": "stream",
     "text": [
      "Expr\n",
      "  head: Symbol call\n",
      "  args: Array{Any}((3,))\n",
      "    1: Symbol +\n",
      "    2: Int64 1\n",
      "    3: Int64 2\n"
     ]
    }
   ],
   "source": [
    "input_expr |> dump"
   ]
  },
  {
   "cell_type": "code",
   "execution_count": 21,
   "metadata": {},
   "outputs": [
    {
     "data": {
      "text/plain": [
       ":call"
      ]
     },
     "metadata": {},
     "output_type": "display_data"
    }
   ],
   "source": [
    "input_expr.head"
   ]
  },
  {
   "cell_type": "code",
   "execution_count": 22,
   "metadata": {},
   "outputs": [
    {
     "data": {
      "text/plain": [
       "3-element Vector{Any}:\n",
       "  :+\n",
       " 1\n",
       " 2"
      ]
     },
     "metadata": {},
     "output_type": "display_data"
    }
   ],
   "source": [
    "input_expr.args"
   ]
  },
  {
   "attachments": {},
   "cell_type": "markdown",
   "metadata": {},
   "source": [
    "Dabei gibt es immer einen *head* und einen *body*, also sozusagen Stamm und Äste. In unserem Fall ist der head `:call`, weil wir den Operator `+` auf die Inputs `1` und `2` anwenden. Betrachten wir ein etwas schwierigeres Beispiel:"
   ]
  },
  {
   "cell_type": "code",
   "execution_count": 19,
   "metadata": {},
   "outputs": [
    {
     "data": {
      "text/plain": [
       ":(f(1) + 2)"
      ]
     },
     "metadata": {},
     "output_type": "display_data"
    }
   ],
   "source": [
    "advanced_expr = :(f(1) + 2) # wir erstellen uns direkt eine Expr"
   ]
  },
  {
   "attachments": {},
   "cell_type": "markdown",
   "metadata": {},
   "source": [
    "Hier stellen wir nun fest, dass anstelle der `1` eine weitere (geschachtelte) Expression getreten ist:"
   ]
  },
  {
   "cell_type": "code",
   "execution_count": 20,
   "metadata": {},
   "outputs": [
    {
     "name": "stdout",
     "output_type": "stream",
     "text": [
      "Expr\n",
      "  head: Symbol call\n",
      "  args: Array{Any}((3,))\n",
      "    1: Symbol +\n",
      "    2: Expr\n",
      "      head: Symbol call\n",
      "      args: Array{Any}((2,))\n",
      "        1: Symbol f\n",
      "        2: Int64 1\n",
      "    3: Int64 2\n"
     ]
    }
   ],
   "source": [
    "advanced_expr |> dump"
   ]
  },
  {
   "attachments": {},
   "cell_type": "markdown",
   "metadata": {},
   "source": [
    "Ganz analog ist in dieser der head `:call`, weil wir wir einen Funktionsaufruf (call) `f(x)` haben."
   ]
  },
  {
   "cell_type": "code",
   "execution_count": 24,
   "metadata": {},
   "outputs": [
    {
     "data": {
      "text/plain": [
       ":call"
      ]
     },
     "metadata": {},
     "output_type": "display_data"
    }
   ],
   "source": [
    "advanced_expr.args[2].head"
   ]
  },
  {
   "attachments": {},
   "cell_type": "markdown",
   "metadata": {},
   "source": [
    "Außerdem können wir (ähnlich wie bei Strings) *interpolation* nutzen:"
   ]
  },
  {
   "cell_type": "code",
   "execution_count": 35,
   "metadata": {},
   "outputs": [
    {
     "data": {
      "text/plain": [
       ":(sqrt(2))"
      ]
     },
     "metadata": {},
     "output_type": "display_data"
    }
   ],
   "source": [
    "x = 2\n",
    ":(sqrt($x))"
   ]
  },
  {
   "attachments": {},
   "cell_type": "markdown",
   "metadata": {},
   "source": [
    "### Mickey Mouse Example\n",
    "\n",
    "Wofür brauchen wir nun Makros? Nehmen wir einmal an, wir würden gerne die Variablen ```a``` bis ```z``` so belegen, dass ```a = 1, ..., z = 26```. Dann wollen wir das natürlich nicht händisch ausschreiben, sondern möglichst arbeitssparend tun. Dafür können wir das Makro `@eval` nutzen:"
   ]
  },
  {
   "cell_type": "code",
   "execution_count": 4,
   "metadata": {},
   "outputs": [
    {
     "data": {
      "text/plain": [
       "25"
      ]
     },
     "metadata": {},
     "output_type": "display_data"
    }
   ],
   "source": [
    "# Anfangsbuchstabe (character) ist a\n",
    "ch = 'a'\n",
    "\n",
    "for i in 1:26\n",
    "    # wir nutzen nun das Makro, weil wir so nicht extra eine Expr erzeugen müssen\n",
    "    @eval $(Symbol(ch)) = $i # Interpolation mit $\n",
    "    ch += 1\n",
    "end\n",
    "\n",
    "y"
   ]
  },
  {
   "attachments": {},
   "cell_type": "markdown",
   "metadata": {},
   "source": [
    "Jetzt kann man sich fragen: Warum genau sollte man das tun wollen? Variablen derart zu benennen ist wahrscheinlich Quatsch, stattdessen würde man wohl eher mit dem Array `collect(1:26)` arbeiten. Eine sinnvolle Anwendung findet man aber zum Beispiel beim Makro `@assert`:"
   ]
  },
  {
   "cell_type": "code",
   "execution_count": 1,
   "metadata": {},
   "outputs": [
    {
     "data": {
      "text/plain": [
       ":(if a == 1\n",
       "      nothing\n",
       "  else\n",
       "      Base.throw(Base.AssertionError(\"a ist nicht 1!!\"))\n",
       "  end)"
      ]
     },
     "metadata": {},
     "output_type": "display_data"
    }
   ],
   "source": [
    "@macroexpand @assert (a == 1) \"a ist nicht 1!!\""
   ]
  },
  {
   "attachments": {},
   "cell_type": "markdown",
   "metadata": {},
   "source": [
    "### Eigene Makros"
   ]
  },
  {
   "attachments": {},
   "cell_type": "markdown",
   "metadata": {},
   "source": [
    "Grundsätzlich gibt es viele Zwecke für Metaprogramming, aber in der Regel fällt die Nutzung von Makros in eine von zwei Kategorien:\n",
    "\n",
    "- Wir wollen neue \"language features\" implementieren\n",
    "- Wir wollen syntactic sugar (hübschere Schreibweisen)\n",
    "\n",
    "Betrachten wir ein einfaches Makro, das quadriert:"
   ]
  },
  {
   "cell_type": "code",
   "execution_count": 1,
   "metadata": {},
   "outputs": [
    {
     "data": {
      "text/plain": [
       "4"
      ]
     },
     "metadata": {},
     "output_type": "display_data"
    }
   ],
   "source": [
    "macro squared(ex)\n",
    "    return :($(ex) * $(ex))\n",
    "end\n",
    "\n",
    "@squared(2)"
   ]
  },
  {
   "cell_type": "code",
   "execution_count": 5,
   "metadata": {},
   "outputs": [
    {
     "data": {
      "text/plain": [
       ":(2 * 2)"
      ]
     },
     "metadata": {},
     "output_type": "display_data"
    }
   ],
   "source": [
    "@macroexpand @squared(2)"
   ]
  },
  {
   "attachments": {},
   "cell_type": "markdown",
   "metadata": {},
   "source": [
    "Auf den ersten Blick sieht alles gut aus, allerdings gibt es ein Problem:"
   ]
  },
  {
   "cell_type": "code",
   "execution_count": 2,
   "metadata": {},
   "outputs": [
    {
     "data": {
      "text/plain": [
       "foo (generic function with 1 method)"
      ]
     },
     "metadata": {},
     "output_type": "display_data"
    }
   ],
   "source": [
    "function foo()\n",
    "    x = 2\n",
    "    return @squared x\n",
    "end"
   ]
  },
  {
   "cell_type": "code",
   "execution_count": 3,
   "metadata": {},
   "outputs": [
    {
     "ename": "UndefVarError",
     "evalue": "UndefVarError: x not defined",
     "output_type": "error",
     "traceback": [
      "UndefVarError: x not defined\n",
      "\n",
      "Stacktrace:\n",
      " [1] foo()\n",
      "   @ Main ~/Documents/GitHub/Julia-2023/src/notebooks/Kurs_7.ipynb:3\n",
      " [2] top-level scope\n",
      "   @ ~/Documents/GitHub/Julia-2023/src/notebooks/Kurs_7.ipynb:1"
     ]
    }
   ],
   "source": [
    "foo()"
   ]
  },
  {
   "attachments": {},
   "cell_type": "markdown",
   "metadata": {},
   "source": [
    "Unser Makro interpretiert `x` als eine globale Variable und nicht als lokale Variable in der Funktion! Der Versuch, dort den entsprechenden Wert reinzukopieren, schlägt also fehl."
   ]
  },
  {
   "cell_type": "code",
   "execution_count": 40,
   "metadata": {},
   "outputs": [
    {
     "data": {
      "text/plain": [
       "CodeInfo(\n",
       "\u001b[90m1 ─\u001b[39m      x = 2\n",
       "\u001b[90m│  \u001b[39m %2 = Main.x * Main.x\n",
       "\u001b[90m└──\u001b[39m      return %2\n",
       ")"
      ]
     },
     "metadata": {},
     "output_type": "display_data"
    }
   ],
   "source": [
    "@code_lowered foo()"
   ]
  },
  {
   "attachments": {},
   "cell_type": "markdown",
   "metadata": {},
   "source": [
    "Dieses Problem lässt sich durch *escaping* beheben. Wir teilen unserem Makro mit, dass `ex` vom Compiler in Ruhe gelassen werden sollte."
   ]
  },
  {
   "cell_type": "code",
   "execution_count": 41,
   "metadata": {},
   "outputs": [
    {
     "data": {
      "text/plain": [
       "foo (generic function with 1 method)"
      ]
     },
     "metadata": {},
     "output_type": "display_data"
    }
   ],
   "source": [
    "macro squared(ex)\n",
    "    return :($(esc(ex)) * $(esc(ex)))\n",
    "end\n",
    "\n",
    "function foo()\n",
    "    x = 2\n",
    "    return @squared x\n",
    "end"
   ]
  },
  {
   "cell_type": "code",
   "execution_count": 42,
   "metadata": {},
   "outputs": [
    {
     "data": {
      "text/plain": [
       "4"
      ]
     },
     "metadata": {},
     "output_type": "display_data"
    }
   ],
   "source": [
    "foo()"
   ]
  },
  {
   "attachments": {},
   "cell_type": "markdown",
   "metadata": {},
   "source": [
    "Hier ist ein weiteres Beispiel, wo escaping notwendig ist; der Compiler ersetzt Variablen- und Funktionsnamen stets durch eigene. Das wollen wir hier nicht."
   ]
  },
  {
   "cell_type": "code",
   "execution_count": 8,
   "metadata": {},
   "outputs": [
    {
     "data": {
      "text/plain": [
       "@trick (macro with 1 method)"
      ]
     },
     "metadata": {},
     "output_type": "display_data"
    }
   ],
   "source": [
    "macro trick(expr)\n",
    "    trick_msg = :(println(\"Wir benutzen eine trickreiche Funktion!\"))\n",
    "    return Expr(:block, trick_msg, expr)\n",
    "end"
   ]
  },
  {
   "cell_type": "code",
   "execution_count": 15,
   "metadata": {},
   "outputs": [
    {
     "name": "stdout",
     "output_type": "stream",
     "text": [
      "Wir benutzen eine trickreiche Funktion!\n"
     ]
    },
    {
     "data": {
      "text/plain": [
       "bar (generic function with 1 method)"
      ]
     },
     "metadata": {},
     "output_type": "display_data"
    }
   ],
   "source": [
    "@trick bar(x) = 1"
   ]
  },
  {
   "cell_type": "code",
   "execution_count": 10,
   "metadata": {},
   "outputs": [
    {
     "data": {
      "text/plain": [
       "@trick (macro with 1 method)"
      ]
     },
     "metadata": {},
     "output_type": "display_data"
    }
   ],
   "source": [
    "macro trick(expr)\n",
    "    trick_msg = :(println(\"Wir benutzen eine trickreiche Funktion!\"))\n",
    "    return esc(Expr(:block, trick_msg, expr))\n",
    "end"
   ]
  },
  {
   "cell_type": "code",
   "execution_count": 16,
   "metadata": {},
   "outputs": [
    {
     "name": "stdout",
     "output_type": "stream",
     "text": [
      "Wir benutzen eine trickreiche Funktion!\n"
     ]
    },
    {
     "data": {
      "text/plain": [
       "foobar (generic function with 1 method)"
      ]
     },
     "metadata": {},
     "output_type": "display_data"
    }
   ],
   "source": [
    "@trick foobar(x) = 1"
   ]
  },
  {
   "attachments": {},
   "cell_type": "markdown",
   "metadata": {},
   "source": [
    "Wichtige Makros sind außerdem\n",
    "- `@time`\n",
    "- `@macroexpand`\n",
    "- `@which`\n",
    "- `@edit`"
   ]
  },
  {
   "attachments": {},
   "cell_type": "markdown",
   "metadata": {},
   "source": [
    "### Ausblick: Loop unrolling (SIMD)\n",
    "\n",
    "Ein anwendungsnäheres Beispiel als oben wäre etwa das sogenannte loop unrolling. Sagen wir, wir haben einen Vektor, der als Länge ein Vielfaches von 4 hat. Nun muss man wissen: Viele Hardwarearchitekturen haben beschleunigte Operationen implementiert, wenn man viele punktweise (gleiche) Operationen durchführt. Das nennt man auch SIMD (single instruction, multiple data).\n",
    "Weil Loops erst zur Laufzeit ausgeführt werden, weiß der Kompiler aber nicht immer, dass wir hier so etwas vorliegen haben. Wir können uns also ein Makro schreiben, das aus\n",
    "```\n",
    "for i=1:4n\n",
    "    c[i] = a[i]*b[i]\n",
    "end\n",
    "```\n",
    "den Code\n",
    "```\n",
    "for i=1:n\n",
    "    c[i*4]     = a[i*4]    *b[i*4]\n",
    "    c[i*4 + 1] = a[i*4 + 1]*b[i*4 + 1]\n",
    "    c[i*4 + 2] = a[i*4 + 2]*b[i*4 + 2]\n",
    "    c[i*4 + 3] = a[i*4 + 3]*b[i*4 + 3]\n",
    "end\n",
    "```\n",
    "generiert.\n",
    "\n",
    "Auf diese Weise weiß der Compiler, dass hier sozusagen 4 mal die gleiche Operation durchgeführt wird und kann diesen Prozess optimieren."
   ]
  },
  {
   "attachments": {},
   "cell_type": "markdown",
   "metadata": {},
   "source": [
    "### Ausblick: Eigene Syntax bzw. Modelldefinitionen\n",
    "\n",
    "Ebenfalls praktisch sind Makros beim Erstellen von eigener Modellsyntax. Ein Beispiel aus eigener Hand wäre etwa die Definition eines makroökonomischen Modells. Um jetzt nicht zu sehr abzuschweifen, hier die Intuition nur ganz kurz: Man bekommt als Problem ein (nichtlineares) Gleichungssystem und will da einen Solver draufwerfen. Dazu kann man das Gleichungssystem in die Form $f(x) = 0$ bringen, wobei $x = (x_1, ..., x_n)$ ein Array in Julia ist.\n",
    "\n",
    "Realiter hat man aber viele verschiedene Modelle mit jeweils 10-100 Gleichungen und will daher das Modell nicht von Hand umstellen. Das geht aber mit Metaprogramming automatisch! In dem untenstehenden Screenshot sieht man das eigene Makro ```@sfc_model``` mit verschiedenen Submakros, womit man das Modell definieren kann. Durch ein ```Dict``` werden Variablennamen automatisch auf Arrayindizes gemapt.\n",
    "\n",
    "![label](../graphics/SFC_1.png) \n",
    "\n",
    "Hier sieht man den Julia-Ouput; es wird (magic!) automatisch eine Funktion ```f!``` erzeugt, die (wenn die exogenen Variablen bzw. Parameter bereitgestellt werden) man dem Solver übergeben kann.\n",
    "\n",
    "![Alt text](../graphics/SFC_2.png)\n",
    "\n",
    "Die Lösung könnte mithilfe von [NLsolve.jl](https://github.com/JuliaNLSolvers/NLsolve.jl), wobei ```F``` Ergebnis und ```x``` Input der Funktion ist, dann so aussehen:\n",
    "```\n",
    "nlsolve((F, x) -> f!(F, x, lags, exos, params), initial_values, autodiff = :forward)\n",
    "```"
   ]
  }
 ],
 "metadata": {
  "kernelspec": {
   "display_name": "Julia 1.10.0",
   "language": "julia",
   "name": "julia-1.10"
  },
  "language_info": {
   "file_extension": ".jl",
   "mimetype": "application/julia",
   "name": "julia",
   "version": "1.10.0"
  },
  "orig_nbformat": 4,
  "vscode": {
   "interpreter": {
    "hash": "b0fa6594d8f4cbf19f97940f81e996739fb7646882a419484c72d19e05852a7e"
   }
  }
 },
 "nbformat": 4,
 "nbformat_minor": 2
}
