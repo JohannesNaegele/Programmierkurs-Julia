{
 "cells": [
  {
   "attachments": {},
   "cell_type": "markdown",
   "metadata": {},
   "source": [
    "# Kurs 6\n",
    "\n",
    "## I/O\n",
    "\n",
    "In diesem Abschnitt wollen wir uns damit beschäftigen, wie wir in Julia Daten einlesen bzw. abspeichern können (input/output). Nehmen wir ab jetzt an, dass wir diesen DataFrame mit Daten speichern wollen:"
   ]
  },
  {
   "cell_type": "code",
   "execution_count": null,
   "metadata": {},
   "outputs": [],
   "source": [
    "using DataFrames\n",
    "df = DataFrame(\n",
    "    \"param1\" => [1, 2],\n",
    "    \"param2\" => [3, 4],\n",
    "    \"dicts\" => [\n",
    "        Dict(\n",
    "            \"d1\" => 1.0,\n",
    "            \"d2\" => 1.0\n",
    "        ),\n",
    "        Dict(\"d3\" => 2.0)\n",
    "    ]\n",
    ")"
   ]
  },
  {
   "attachments": {},
   "cell_type": "markdown",
   "metadata": {},
   "source": [
    "### CSV\n",
    "\n",
    "Das wohl einfachste Dateiformat ist CSV (comma-seperated values format). Hier haben wir letzen Endes nur eine Textdatei, in welcher wir einzelne Werte durch Kommata abtrennen."
   ]
  },
  {
   "cell_type": "code",
   "execution_count": null,
   "metadata": {},
   "outputs": [],
   "source": [
    "using Pkg; Pkg.add(\"CSV\")\n",
    "using CSV"
   ]
  },
  {
   "cell_type": "code",
   "execution_count": null,
   "metadata": {},
   "outputs": [],
   "source": [
    "CSV.write(\"data.csv\", df)"
   ]
  },
  {
   "attachments": {},
   "cell_type": "markdown",
   "metadata": {},
   "source": [
    "Oft wird anstelle des Kommas auch ein anderes Trennzeichen verwendet (zum Beispiel ein Semikolon). Wenn man nämlich wie im Deutschen Floats als `1,0`, `2,0`, etc. kodiert, dann braucht man logischerweise ein anderes Trennzeichen. Das geht wie folgt:"
   ]
  },
  {
   "cell_type": "code",
   "execution_count": null,
   "metadata": {},
   "outputs": [],
   "source": [
    "CSV.write(\"data.csv\", df, delim=\";\")"
   ]
  },
  {
   "cell_type": "code",
   "execution_count": null,
   "metadata": {},
   "outputs": [],
   "source": [
    "read_csv = CSV.read(\"data.csv\", DataFrame; delim=\";\")"
   ]
  },
  {
   "attachments": {},
   "cell_type": "markdown",
   "metadata": {},
   "source": [
    "Wie man aber hier schon sieht: Für geschachtelte Datenstrukturen ist CSV nicht besonders gut geeignet; unsere Dicts werden hier nur als String eingelesen:"
   ]
  },
  {
   "cell_type": "code",
   "execution_count": null,
   "metadata": {},
   "outputs": [],
   "source": [
    "read_csv.dicts[1]"
   ]
  },
  {
   "attachments": {},
   "cell_type": "markdown",
   "metadata": {},
   "source": [
    "### Excel\n",
    "\n",
    "Häufig trifft man natürlich auch auf Excel-Tabellen, dafür empfehlen wir das Paket XLSX.jl. Mehr dazu im Praxiskurs Julia."
   ]
  },
  {
   "attachments": {},
   "cell_type": "markdown",
   "metadata": {},
   "source": [
    "### JSON"
   ]
  },
  {
   "attachments": {},
   "cell_type": "markdown",
   "metadata": {},
   "source": [
    "JSON steht für JavaScript Object Notation und ist ebenfalls leicht lesbar. Wir schreiben unsere Daten dabei wieder in ein Textfile; die Struktur ist allerdings nicht wie bei einer Tabelle. Diese ähnelt eher dem eines Dicts (also hat attribute-value Paare)."
   ]
  },
  {
   "cell_type": "code",
   "execution_count": null,
   "metadata": {},
   "outputs": [],
   "source": [
    "Pkg.add(\"JSON\"); using JSON"
   ]
  },
  {
   "cell_type": "code",
   "execution_count": null,
   "metadata": {},
   "outputs": [],
   "source": [
    "stringdata = JSON.json(df)\n",
    "println(stringdata)"
   ]
  },
  {
   "cell_type": "code",
   "execution_count": null,
   "metadata": {},
   "outputs": [],
   "source": [
    "open(\"data.json\", \"w\") do f\n",
    "    write(f, stringdata)\n",
    "end"
   ]
  },
  {
   "cell_type": "code",
   "execution_count": null,
   "metadata": {},
   "outputs": [],
   "source": [
    "# create variable to write the information\n",
    "read_json = Dict()\n",
    "open(\"data.json\", \"r\") do f\n",
    "    global read_json\n",
    "    dicttxt = read(f,String) # file information to string\n",
    "    read_json = JSON.parse(dicttxt)  # parse and transform d ta\n",
    "end\n",
    "read_json"
   ]
  },
  {
   "attachments": {},
   "cell_type": "markdown",
   "metadata": {},
   "source": [
    "### JLD2"
   ]
  },
  {
   "cell_type": "markdown",
   "metadata": {},
   "source": [
    "Dieses Package erlaubt uns Daten im HDF5-Format zu speichern, welches besser als etwa JSON für große Datenmengen geeignet ist. Bei JSON hat man da einige Defizite: Bei JSON wird jeder Wert durch Characters repräsentiert. Das bedeutet, der Float `3.141592653589793` wird mit 17 Zeichen gespeichert, wovon jedes in der Regel 8-Bit braucht (siehe [hier](https://de.wikipedia.org/wiki/American_Standard_Code_for_Information_Interchange)). Also speichern wir 136 anstelle der eigentlich benötigten 64 Bit! Zudem gibt es auch keine Kompression und der Zugriff auf Subdatensätze ist nicht performant. Bei HDF5 speichert man dagegen deutlich intelligenter; HDF5 ist nämlich ein Binärformat (binary format). Nähere Informationen findet man [hier](https://docs.hdfgroup.org/hdf5/develop/_intro_h_d_f5.html).\n",
    "\n",
    "An dieser Stelle sei noch genannt, dass es alternative Pakete wie JLD.jl und HDF5.jl gibt, die je nach Anwendung besser geeignet sind."
   ]
  },
  {
   "cell_type": "code",
   "execution_count": null,
   "metadata": {},
   "outputs": [],
   "source": [
    "Pkg.add(\"JLD2\"); using JLD2"
   ]
  },
  {
   "cell_type": "code",
   "execution_count": null,
   "metadata": {},
   "outputs": [],
   "source": [
    "jldsave(\"df.jld2\"; df)"
   ]
  },
  {
   "cell_type": "code",
   "execution_count": null,
   "metadata": {},
   "outputs": [],
   "source": [
    "read_hdf5 = load(\"df.jld2\")"
   ]
  },
  {
   "attachments": {},
   "cell_type": "markdown",
   "metadata": {},
   "source": [
    "\n",
    "### FileIO\n",
    "\n",
    "Für viele Anwendungen müssen wir uns aber gar nicht mit diesen einzelnen Paketen rumschlagen, sondern brauchen nur das Paket `FileIO.jl` zu laden. Dieses stellt ein vereinheitlichtes Interface via `load` und `save` für zahlreiche Dateiformate bereit."
   ]
  },
  {
   "cell_type": "code",
   "execution_count": null,
   "metadata": {},
   "outputs": [],
   "source": [
    "Pkg.add(\"FileIO\"); using FileIO"
   ]
  },
  {
   "cell_type": "code",
   "execution_count": null,
   "metadata": {},
   "outputs": [],
   "source": [
    "x = collect(-3:0.1:3)\n",
    "y = collect(-3:0.1:3)\n",
    "\n",
    "xx = reshape([xi for xi in x for yj in y], length(y), length(x))\n",
    "yy = reshape([yj for xi in x for yj in y], length(y), length(x))\n",
    "                                \n",
    "z = sin.(xx .+ yy.^2)\n",
    "\n",
    "data_dict = Dict(\"x\" => x, \"y\" => y, \"z\" => z)\n",
    "\n",
    "save(\"data_dict.jld2\", data_dict)"
   ]
  },
  {
   "cell_type": "code",
   "execution_count": null,
   "metadata": {},
   "outputs": [],
   "source": [
    "read_hdf5 = load(\"data_dict.jld2\")\n",
    "\n",
    "x2 = read_hdf5[\"x\"]\n",
    "y2 = read_hdf5[\"y\"]\n",
    "z2 = read_hdf5[\"z\"]\n",
    "\n",
    "using Plots; plot(x2, y2, z2, st = :surface)"
   ]
  },
  {
   "attachments": {},
   "cell_type": "markdown",
   "metadata": {},
   "source": [
    "## Lineare Regression\n",
    "\n",
    "Wir wollen in diesem Kurs nicht näher auf dieses Thema eingehen; der Vollständigkeit halber sei hier ein Minimalbeispiel für Lineare Regression."
   ]
  },
  {
   "cell_type": "code",
   "execution_count": null,
   "metadata": {},
   "outputs": [],
   "source": [
    "using Pkg; Pkg.add(\"GLM\")"
   ]
  },
  {
   "cell_type": "code",
   "execution_count": null,
   "metadata": {},
   "outputs": [],
   "source": [
    "using DataFrames, GLM\n",
    "data = DataFrame(X=[1,2,3], Y=[2,4,7])"
   ]
  },
  {
   "cell_type": "code",
   "execution_count": null,
   "metadata": {},
   "outputs": [],
   "source": [
    "fm = @formula(Y ~ X)\n",
    "linear_regressor = lm(fm, data)"
   ]
  },
  {
   "attachments": {},
   "cell_type": "markdown",
   "metadata": {},
   "source": [
    "Wie man auf weitere Ergebnisse und Informationen zugreift, ist [hier](https://juliastats.org/GLM.jl/stable/) erklärt."
   ]
  },
  {
   "attachments": {},
   "cell_type": "markdown",
   "metadata": {},
   "source": [
    "## Typen\n",
    "\n",
    "Wir haben schon ganz am Anfang festgestellt, dass quasi alles, mit dem wir in Julia herumhantieren, einen Typ hat. Das ist aber nicht nur ein Nebenkriegsschauplatz, sondern faktisch super wichtig, weil wir uns auch eigene Typen (aka Datenstrukturen) und das dazugehörige Verhalten definieren können.[^1]\n",
    "\n",
    "Grundsätzlich gibt es nur zwei Arten von Typen:\n",
    "\n",
    "- abstract types: Können nicht instanziiert werden und haben keine Attribute (sind quasi Äste an Baum)\n",
    "- concrete types: Können instanziiert werden, aber haben keine Subtypen (sind quasi Blätter an Baum).\n",
    "\n",
    "Das wird an folgender Grafik ziemlich klar.\n",
    "\n",
    "![Alt text](../graphics/types.png)\n",
    "\n",
    "Alle blauen Felder sind *abstract types*, alles grünen Felder sind *concrete types*. Beispielsweise kann ein `Int64` initialisiert werden (einfach indem man etwa `a = 1` eingibt), ein `Real` kann das nicht. Dieser abstrakte Typ ist sozusagen lediglich der Kleber zwischen den verschiedenen reellwertigen Zahlen(sub-)typen. Dabei nennt man `Int64` einen *Subtyp* von `Real`; umgekehrt ist `Real` ein *Supertyp* von `Int64`. Weil ja wie gesagt in Julia alles aus Typen besteht, gilt es für diese nun einiges an Handwerkszeug zu erlernen.\n",
    "\n",
    "[^1]: \n",
    "    Für die Leser mit etwas Vorwissen: Typen sind ähnlich zu structs in C, Klassen gibt es nicht. Im Gegensatz zu C definiert ein Typ aber tatsächlich einen neuen (benannten) Datentyp."
   ]
  },
  {
   "attachments": {},
   "cell_type": "markdown",
   "metadata": {},
   "source": [
    "### Werkzeuge für Types\n",
    "\n",
    "### Type declarations\n",
    "\n",
    "Wichtig ist zunächst der `::`-Operator. Wir benutzen ihn vor allem für sanity checks (wir bekommen compile time anstelle von runtime errors) Spezialisierungen von Funktionen. Manchmal hilft er aber auch dem Compiler schnelleren Code zu produzieren (dazu später mehr)."
   ]
  },
  {
   "cell_type": "code",
   "execution_count": null,
   "metadata": {},
   "outputs": [],
   "source": [
    "(1+2)::Float64"
   ]
  },
  {
   "cell_type": "code",
   "execution_count": null,
   "metadata": {},
   "outputs": [],
   "source": [
    "(1+2)::Int"
   ]
  },
  {
   "cell_type": "code",
   "execution_count": null,
   "metadata": {},
   "outputs": [],
   "source": [
    "foo::Int = 100.0\n",
    "foo"
   ]
  },
  {
   "attachments": {},
   "cell_type": "markdown",
   "metadata": {},
   "source": [
    "Die Funktion `typeof` haben wir bereits gesehen und gibt uns den concrete type eines instanziierten Typs zurück:"
   ]
  },
  {
   "cell_type": "code",
   "execution_count": null,
   "metadata": {},
   "outputs": [],
   "source": [
    "typeof(\"abc\")"
   ]
  },
  {
   "cell_type": "code",
   "execution_count": null,
   "metadata": {},
   "outputs": [],
   "source": [
    "isa(\"abc\", AbstractString) # String ist ein Subtyp von AbstractString!"
   ]
  },
  {
   "cell_type": "code",
   "execution_count": null,
   "metadata": {},
   "outputs": [],
   "source": [
    "isa(1, Float64) # ein Integer ist kein Float!"
   ]
  },
  {
   "cell_type": "code",
   "execution_count": null,
   "metadata": {},
   "outputs": [],
   "source": [
    "isa(1.0, Float64)"
   ]
  },
  {
   "cell_type": "code",
   "execution_count": null,
   "metadata": {},
   "outputs": [],
   "source": [
    "1.0 isa Number # alternative Syntax"
   ]
  },
  {
   "cell_type": "code",
   "execution_count": null,
   "metadata": {},
   "outputs": [],
   "source": [
    "supertype(Int64) # der direkte (erste) Supertyp von Int64"
   ]
  },
  {
   "cell_type": "code",
   "execution_count": null,
   "metadata": {},
   "outputs": [],
   "source": [
    "subtypes(Real) # direkte (erste) Subtypen des abstract types Real"
   ]
  },
  {
   "cell_type": "code",
   "execution_count": null,
   "metadata": {},
   "outputs": [],
   "source": [
    "Int <: Real # <: checkt ob Typ ein Subtyp des rechten Typs ist"
   ]
  },
  {
   "cell_type": "code",
   "execution_count": null,
   "metadata": {},
   "outputs": [],
   "source": [
    "Any # alle Objekte sind davon ein Subtyp; das ist quasi die Wurzel unseres Typenbaums"
   ]
  },
  {
   "attachments": {},
   "cell_type": "markdown",
   "metadata": {},
   "source": [
    "Ein kleine Sache von der man sich nicht verwirren lassen sollte: Wenn wir den Namen eines Typs eingeben, so wird dieser im Format `DataType` gehalten bzw. hat wiederum den Typ `DataType`:"
   ]
  },
  {
   "cell_type": "code",
   "execution_count": null,
   "metadata": {},
   "outputs": [],
   "source": [
    "typeof(Int)"
   ]
  },
  {
   "cell_type": "code",
   "execution_count": null,
   "metadata": {},
   "outputs": [],
   "source": [
    "typeof(DataType) # hier diesselbe Logik"
   ]
  },
  {
   "cell_type": "code",
   "execution_count": null,
   "metadata": {},
   "outputs": [],
   "source": [
    "# wir schreiben uns gerade nochmal die typeof-Funktion\n",
    "whichtype(::T) where T = T\n",
    "whichtype(\"foo\")"
   ]
  },
  {
   "attachments": {},
   "cell_type": "markdown",
   "metadata": {},
   "source": [
    "### Eigene Typen\n",
    "\n",
    "Wir haben nun gesehen, wie wir mit bestehenden Typen umgehen können. Hier kommt nun der Teil, wo wir selbst kreativ werden können. Bevor wir zu dem sich eigentlich selbst erklärenden Beispiel kommen, sei noch gesagt: Es gibt verschiedene Arten von concrete types, ein `Int64` wäre beispielsweise ein *primitive type*. Für uns sind diese aber erstmal egal, viel wichtiger sind dagegen sogenannte *composite types*, die mit dem Keyword `struct` erstellt werden."
   ]
  },
  {
   "cell_type": "code",
   "execution_count": null,
   "metadata": {},
   "outputs": [],
   "source": [
    "abstract type Person end # abstract type\n",
    "\n",
    "function fullname(p::Person) # type declaration in der Funktionssignatur; wir definieren Verhalten hier für einen abstrakten Typ!\n",
    "    return \"$(p.name) $(p.lastname)\" # Zugriff auf Datenfelder via .\n",
    "end\n",
    "\n",
    "struct Student <: Person # composite type\n",
    "    name::String # Feld\n",
    "    lastname::String # Feld\n",
    "    age::Int # Feld\n",
    "    major::String # Feld\n",
    "end\n",
    "\n",
    "s = Student(\"Jane\", \"Doe\", 22, \"Computer Science\")\n",
    "fullname(s)"
   ]
  },
  {
   "cell_type": "code",
   "execution_count": null,
   "metadata": {},
   "outputs": [],
   "source": [
    "s.name"
   ]
  },
  {
   "cell_type": "code",
   "execution_count": null,
   "metadata": {},
   "outputs": [],
   "source": [
    "fullname(1) # geht nicht, weil für diesen Inputtypen unsere Funktion nicht definiert ist!"
   ]
  },
  {
   "attachments": {},
   "cell_type": "markdown",
   "metadata": {},
   "source": [
    "Wie wir sehen, können wir uns einen concrete type Student instanziieren, indem wir einfach die Funktion `Student` aufrufen und als Argumente die benötigten Datenfelder übergeben. Weil sozusagen aus dem Rezept `struct ... end` ein konkret lebender Wert in `s` erzeugt wird, nennt man die Funktion `Student` einen Konstruktor. Genauer gesagt, haben es wir hier mit dem *default constructor* zu tun, den Julia uns automatisch bereitstellt.\n",
    "\n",
    "Oftmals wollen wir aber den Konstruktionsprozess einer Instanz modifizieren, weil wir zum Beispiel manche Felder mit default-Werten befüllen wollen. Betrachte dazu"
   ]
  },
  {
   "cell_type": "code",
   "execution_count": null,
   "metadata": {},
   "outputs": [],
   "source": [
    "abstract type Equity end # Eigenkapital\n",
    "\n",
    "struct Stock <: Equity # Aktie\n",
    "    symbol::String\n",
    "    name::String\n",
    "end\n",
    "\n",
    "struct StockQuantity # Anzahl einer Aktie, zum Beispiel im TradeRepublic-Konto\n",
    "    stock::Stock\n",
    "    quantity\n",
    "end\n",
    "\n",
    "my_stock = Stock(\"ADS\", \"Adidas\")\n",
    "StockQuantity(my_stock, 2)"
   ]
  },
  {
   "attachments": {},
   "cell_type": "markdown",
   "metadata": {},
   "source": [
    "Nun wollen wir sagen, dass wir per default eine Anzahl von 0 haben:"
   ]
  },
  {
   "cell_type": "code",
   "execution_count": null,
   "metadata": {},
   "outputs": [],
   "source": [
    "StockQuantity(stock) = StockQuantity(stock, 0)\n",
    "StockQuantity(my_stock)"
   ]
  },
  {
   "attachments": {},
   "cell_type": "markdown",
   "metadata": {},
   "source": [
    "Dieses Vorgehen nennt man einen äußeren Konstruktor, weil eben außerhalb der Typdefinition ein neues „Rezept“ auftaucht. Manchmal wollen wir aber auch den default constructor überschreiben, weil wir zum Beispiel den Benutzer vor einer sinnfreien Initialisierung schützen wollen. Dafür können wir einen *inner constructor* verwenden:"
   ]
  },
  {
   "cell_type": "code",
   "execution_count": null,
   "metadata": {},
   "outputs": [],
   "source": [
    "const DAX_companies = [\"SAP\", \"BASF\", \"Merck\"]\n",
    "\n",
    "struct SafeStock <: Equity # Aktie kann nur mit sinnvollen Werten initialisiert werden\n",
    "    symbol::String\n",
    "    name::String\n",
    "    function SafeStock(symbol, name)\n",
    "        if !(symbol in DAX_companies)\n",
    "            println(\"$(symbol) ist keine bekannte AG!\")\n",
    "        else\n",
    "            new(symbol, name)\n",
    "        end\n",
    "    end\n",
    "end\n",
    "\n",
    "SafeStock(\"DF\", \"d-fine\")"
   ]
  },
  {
   "cell_type": "code",
   "execution_count": null,
   "metadata": {},
   "outputs": [],
   "source": [
    "SafeStock(\"SAP\", \"SAP\")"
   ]
  },
  {
   "attachments": {},
   "cell_type": "markdown",
   "metadata": {},
   "source": [
    "#### Parametrisierung"
   ]
  },
  {
   "attachments": {},
   "cell_type": "markdown",
   "metadata": {},
   "source": [
    "Bei unserem vorherigen Typ `StockQuantity` gibt es ein kleines Problem: Vielleicht wollen wir nun ein Feature in unserer Trading-App, die es erlaubt, auch nur Prozente einer Aktie zu halten. Dann müssten wir entweder einen neuen Typ schreiben, der dann ein Feld `quantity::Float64` hat (unpraktisch), oder wir lassen die type declaration weg und schreiben nur `quantity` (was äquivalent zu `quantity::Any` wäre). In letzterem Fall ist dann aber wiederum ungünstig, dass – wenn wir eine Variable vom Typ `StockQuantity` gegeben haben` – zur Kompilierzeit unklar ist, ob wir Prozente oder ganzzahlige Werte halten.\n",
    "\n",
    "Deshalb gibt es für Typen noch eine nette Mechanik namens *Parametrisierung*:"
   ]
  },
  {
   "cell_type": "code",
   "execution_count": null,
   "metadata": {},
   "outputs": [],
   "source": [
    "struct StockHolding{T<:Number}\n",
    "    stock::Stock\n",
    "    quantity::T\n",
    "end\n",
    "\n",
    "StockHolding(my_stock, 0.5)"
   ]
  },
  {
   "attachments": {},
   "cell_type": "markdown",
   "metadata": {},
   "source": [
    "#### Mutability\n",
    "\n",
    "Instanzen eines structs sind *immutable*, das bedeutet: Datenfelder können nach der Instanziierung nicht mehr verändert werden!"
   ]
  },
  {
   "cell_type": "code",
   "execution_count": null,
   "metadata": {},
   "outputs": [],
   "source": [
    "s.name = \"Euler\""
   ]
  },
  {
   "attachments": {},
   "cell_type": "markdown",
   "metadata": {},
   "source": [
    "Das ist per se gut, denn wenn der Compiler weiß, dass sich nichts ändern kann, dann muss genau dafür während der Laufzeit nicht mehr gecheckt werden, sprich Code kann stärker optimiert werden. Je nach Anwendung ist das aber schon eine Funktionalität, die wir gerne hätten. Deshalb benutzt man dafür *mutable composite types*:"
   ]
  },
  {
   "cell_type": "code",
   "execution_count": null,
   "metadata": {},
   "outputs": [],
   "source": [
    "mutable struct InsecureStudent <: Person # könnte Studiengang wechseln\n",
    "    name::String\n",
    "    major::String\n",
    "end\n",
    "\n",
    "s = InsecureStudent(\"John Doe\", \"WiMa\")\n",
    "s.major = \"taxidriver\"\n",
    "s"
   ]
  },
  {
   "attachments": {},
   "cell_type": "markdown",
   "metadata": {},
   "source": [
    "### Unions\n",
    "\n",
    "Der Union-Typ ist sehr nützlich, wenn wir verschiedene Datentypen kombinieren wollen, die aus verschiedenen Typhierarchien stammen."
   ]
  },
  {
   "cell_type": "code",
   "execution_count": null,
   "metadata": {},
   "outputs": [],
   "source": [
    "1 isa Union{Int, String}"
   ]
  },
  {
   "cell_type": "code",
   "execution_count": null,
   "metadata": {},
   "outputs": [],
   "source": [
    "\"1\" isa Union{Int, String}"
   ]
  },
  {
   "cell_type": "code",
   "execution_count": null,
   "metadata": {},
   "outputs": [],
   "source": [
    "abstract type Art end\n",
    "struct Painting <: Art\n",
    "    artist::String\n",
    "    title::String\n",
    "end"
   ]
  },
  {
   "cell_type": "code",
   "execution_count": null,
   "metadata": {},
   "outputs": [],
   "source": [
    "struct BasketOfThings\n",
    "    things::Vector{Union{Painting,Stock}}\n",
    "    reason::String\n",
    "end"
   ]
  },
  {
   "cell_type": "code",
   "execution_count": null,
   "metadata": {},
   "outputs": [],
   "source": [
    "mona_lisa = Painting(\"Leonardo da Vinci\", \"Mona Lisa\")\n",
    "BasketOfThings([my_stock, mona_lisa], \"Lehrpreis für das 3. OG\")"
   ]
  },
  {
   "cell_type": "code",
   "execution_count": null,
   "metadata": {},
   "outputs": [],
   "source": [
    "\"1\" isa Union{Int, String}"
   ]
  }
 ],
 "metadata": {
  "kernelspec": {
   "display_name": "Julia 1.10.0",
   "language": "julia",
   "name": "julia-1.10"
  },
  "language_info": {
   "file_extension": ".jl",
   "mimetype": "application/julia",
   "name": "julia",
   "version": "1.10.0"
  },
  "orig_nbformat": 4
 },
 "nbformat": 4,
 "nbformat_minor": 2
}
