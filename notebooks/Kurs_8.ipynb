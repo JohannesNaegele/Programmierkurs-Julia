{
 "cells": [
  {
   "attachments": {},
   "cell_type": "markdown",
   "metadata": {},
   "source": [
    "# Kurs 8\n",
    "\n",
    "Nachdem wir uns in den vergangenen Kursen mit vielen Programmierkonzepten näher beschäftigt haben (allen voran Typen und Makros), wollen wir nun ein praxisnahes Beispiel betrachten, welches ein bisschen die verschiedenen Fäden zusammenführt. Das Setting ist: Definiere Arithmetik für verschiedene Temparatureinheiten (von [hier](https://discourse.julialang.org/t/promotion-multiple-dispatch-in-example-using-temperature/50843) geklaut)."
   ]
  },
  {
   "attachments": {},
   "cell_type": "markdown",
   "metadata": {},
   "source": [
    "## Ein fancy Beispiel"
   ]
  },
  {
   "cell_type": "code",
   "execution_count": null,
   "metadata": {},
   "outputs": [],
   "source": [
    "# Wir wollen zu diesen Funktionen (die bereits ab Werk in Julia sind, deshalb im Base module) neue Funktionalität hinzufügen.\n",
    "import Base: +, -, *, promote, promote_rule, convert, show\n",
    "\n",
    "# definiere neuen Typ\n",
    "abstract type Temperature end\n",
    "types = [:Celsius, :Kelvin, :Fahrenheit]\n",
    "\n",
    "# lege für jede Temperatur interne Daten an und definiere Addition/Subtraktion gleicher Temperaturen\n",
    "for T in types\n",
    "    # @eval begin ... end analog zu eval(...)\n",
    "    @eval begin\n",
    "        # $T kopiert die entsprechende Temperatur sozusagen als Teil des Codes an die Stelle nach struct,\n",
    "        # damit wir diesen Block nicht mehrfach schreiben müssen\n",
    "        # Das ist metaprogramming!\n",
    "        struct $T <: Temperature\n",
    "            value::Float64\n",
    "        end\n",
    "\n",
    "        +(x::$T, y::$T) = $T(x.value + y.value)\n",
    "        -(x::$T, y::$T) = $T(x.value - y.value)\n",
    "    end\n",
    "end"
   ]
  },
  {
   "cell_type": "code",
   "execution_count": null,
   "metadata": {},
   "outputs": [],
   "source": [
    "Celsius(1.0)"
   ]
  },
  {
   "cell_type": "code",
   "execution_count": null,
   "metadata": {},
   "outputs": [],
   "source": [
    "+(Celsius(1.0), Celsius(2.0))"
   ]
  },
  {
   "cell_type": "code",
   "execution_count": null,
   "metadata": {},
   "outputs": [],
   "source": [
    "Celsius(1.0) + Celsius(2.0)"
   ]
  },
  {
   "cell_type": "code",
   "execution_count": null,
   "metadata": {},
   "outputs": [],
   "source": [
    "# Lege fest, wie t in erstes Argument umgwandelt wird.\n",
    "convert(::Type{Kelvin}, t::Celsius) = Kelvin(t.value + 273.15)\n",
    "convert(::Type{Kelvin}, t::Fahrenheit) = Kelvin(Celsius(t))\n",
    "convert(::Type{Celsius}, t::Kelvin) = Celsius(t.value - 273.15)\n",
    "convert(::Type{Celsius}, t::Fahrenheit) = Celsius((t.value - 32) * 5 / 9)\n",
    "\n",
    "# Wenn wir wollen, können wir auch conversion in Fahrenheit definieren\n",
    "# convert(::Type{Fahrenheit}, t::Celsius) = Fahrenheit(t.value*9/5 + 32)\n",
    "# convert(::Type{Fahrenheit}, t::Kelvin) = Fahrenheit(Ceslius(t))"
   ]
  },
  {
   "cell_type": "code",
   "execution_count": null,
   "metadata": {},
   "outputs": [],
   "source": [
    "convert(Kelvin, Celsius(1.0))"
   ]
  },
  {
   "cell_type": "code",
   "execution_count": null,
   "metadata": {},
   "outputs": [],
   "source": [
    "# Baue die obigen convert-Funktionen in die Konstruktoren ein.\n",
    "for T in types, S in types\n",
    "    if S != T\n",
    "        @eval $T(temp::$S) = convert($T, temp)\n",
    "    end\n",
    "end"
   ]
  },
  {
   "cell_type": "code",
   "execution_count": null,
   "metadata": {},
   "outputs": [],
   "source": [
    "# Wir bekommen dieses nette Verhalten (Initialisierung mit anderen Temperaturen ist möglich) \n",
    "Kelvin(Celsius(1.0))"
   ]
  },
  {
   "attachments": {},
   "cell_type": "markdown",
   "metadata": {},
   "source": [
    "Mit *promotion* bezeichnet man die *conversion* von gemischten Typen zu einem gemeinsamen Typ:"
   ]
  },
  {
   "cell_type": "code",
   "execution_count": null,
   "metadata": {},
   "outputs": [],
   "source": [
    "# Gegeben zwei Einheiten: Welche hätten wir lieber?\n",
    "promote_rule(::Type{Kelvin}, ::Type{Celsius}) = Kelvin\n",
    "promote_rule(::Type{Fahrenheit}, ::Type{Kelvin}) = Kelvin\n",
    "promote_rule(::Type{Fahrenheit}, ::Type{Celsius}) = Celsius"
   ]
  },
  {
   "cell_type": "code",
   "execution_count": null,
   "metadata": {},
   "outputs": [],
   "source": [
    "promote_type(Kelvin, Celsius)"
   ]
  },
  {
   "cell_type": "code",
   "execution_count": null,
   "metadata": {},
   "outputs": [],
   "source": [
    "promote(Kelvin(1.0), Celsius(1.0))"
   ]
  },
  {
   "cell_type": "code",
   "execution_count": null,
   "metadata": {},
   "outputs": [],
   "source": [
    "# definiere Arithmetik für unterschiedliche Temperatur-structs\n",
    "+(x::Temperature, y::Temperature) = +(promote(x, y)...);\n",
    "-(x::Temperature, y::Temperature) = -(promote(x, y)...);"
   ]
  },
  {
   "cell_type": "code",
   "execution_count": null,
   "metadata": {},
   "outputs": [],
   "source": [
    "Fahrenheit(4) + Celsius(5)"
   ]
  },
  {
   "attachments": {},
   "cell_type": "markdown",
   "metadata": {},
   "source": [
    "Was passiert hier? Zunächst wird durch promotion gefragt, in welchem Typ wir gerne rechnen würden. Entsprechend werden beide Inputs dorthin konvertiert. Für jeden einzelnen Typ ist Arithmetik aber bereits wohldefiniert, also bekommen wir etwas Sinnvolles raus."
   ]
  },
  {
   "cell_type": "code",
   "execution_count": null,
   "metadata": {},
   "outputs": [],
   "source": [
    "# Wir wollen am Ende schreiben können: 2°K anstelle Kelvin(2)\n",
    "abstract type TemperatureSymbol end\n",
    "# Lege für jede Temperatur einen zusätzlichen struct an, damit dieser als repräsentatives Symbol benutzt werden kann\n",
    "# ist nicht SI-konform, aber nvm\n",
    "symbols = Symbol.([\"°C\", \"°K\", \"°F\"])\n",
    "for i in 1:length(symbols)\n",
    "    @eval begin\n",
    "        struct $(symbols[i]) <: TemperatureSymbol\n",
    "        end\n",
    "        *(x::Real, y::Type{$(symbols[i])}) = $(types[i])(x)\n",
    "    end\n",
    "end"
   ]
  },
  {
   "cell_type": "code",
   "execution_count": null,
   "metadata": {},
   "outputs": [],
   "source": [
    "Kelvin(2)"
   ]
  },
  {
   "cell_type": "markdown",
   "metadata": {},
   "source": [
    "Folgendes soll fehlschlagen; würde man sich den struct ```TemperatureSymbol``` sparen und direkt die Multiplikation auf Temperaturen definieren, dann hätte man ```const °C = Celsius(1)``` und man hätte diesen Sicherheitsmechanismus nicht (Operation würde ungewünscht funktionieren)."
   ]
  },
  {
   "cell_type": "code",
   "execution_count": null,
   "metadata": {},
   "outputs": [],
   "source": [
    "2°C + °C"
   ]
  },
  {
   "cell_type": "code",
   "execution_count": null,
   "metadata": {},
   "outputs": [],
   "source": [
    "0°C + 0°K"
   ]
  },
  {
   "attachments": {},
   "cell_type": "markdown",
   "metadata": {},
   "source": [
    "Nun implementieren wir noch eine hübschere Ausgabe:"
   ]
  },
  {
   "cell_type": "code",
   "execution_count": null,
   "metadata": {},
   "outputs": [],
   "source": [
    "# custom pretty-printing (nutze Base.show)\n",
    "for T in types\n",
    "    # Die Benennung der Ausgabe ist hier auch ein wieder ein bisschen arbiträr, nicht SI-konform\n",
    "    @eval show(io::IO, x::$T) = println(\"$(x.value) °\" * $(String(T)))\n",
    "end\n",
    "Kelvin(1)"
   ]
  }
 ],
 "metadata": {
  "kernelspec": {
   "display_name": "Julia 1.10.0",
   "language": "julia",
   "name": "julia-1.10"
  },
  "language_info": {
   "file_extension": ".jl",
   "mimetype": "application/julia",
   "name": "julia",
   "version": "1.10.0"
  },
  "orig_nbformat": 4,
  "vscode": {
   "interpreter": {
    "hash": "b0fa6594d8f4cbf19f97940f81e996739fb7646882a419484c72d19e05852a7e"
   }
  }
 },
 "nbformat": 4,
 "nbformat_minor": 2
}
