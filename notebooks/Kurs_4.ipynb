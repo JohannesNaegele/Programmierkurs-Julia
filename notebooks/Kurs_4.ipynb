{
 "cells": [
  {
   "attachments": {},
   "cell_type": "markdown",
   "metadata": {},
   "source": [
    "# Kurs 4"
   ]
  },
  {
   "attachments": {},
   "cell_type": "markdown",
   "metadata": {},
   "source": [
    "## Multiple dispatch"
   ]
  },
  {
   "attachments": {},
   "cell_type": "markdown",
   "metadata": {},
   "source": [
    "Wie vermutlich schon so ein bisschen angeklungen ist, unterscheidet sich Julia sowohl von statisch-typisierten Programmiersprachen wie C++, als auch von klassischen dynamisch-typisierten Programmiersprachen wie Python.\n",
    "\n",
    "Bei C++ muss zur Kompilierzeit bekannt sein, was für ein Typ in eine bestimme Funktion gesteckt wird. Dieser Code wird dann in Maschinencode übersetzt. Bei Python muss der Typ einer Variablen wiederum erst zur Laufzeit bekannt sein, allerdings findet auch keine Übersetzung in Maschinencode statt. Julia ist quasi eine Hybrid-Lösung: Sobald eine Zeile Code ausgeführt wird, wird für den *konkret hineingesteckten Typ* ein Kompiliervorgang gestartet und der kompilierte Code ausgeführt. Diesen Vorgang nennt man *multiple dispatch*, wozu Julia einen *just-in-time compiler* (JIT) nutzt. Dadurch ist Julia faktisch dynamisch-typisiert, kann aber bei richtiger Verwendung quasi genauso schnell wie C/C++ sein."
   ]
  },
  {
   "attachments": {},
   "cell_type": "markdown",
   "metadata": {},
   "source": [
    "### Beispiel\n",
    "\n",
    "Wir vergleichen, was nach dem Kompilierprozess rauskommt, wenn man einmal ```Integer``` und einmal ```String``` in dieselbe Funktion wirft:"
   ]
  },
  {
   "cell_type": "code",
   "execution_count": null,
   "metadata": {},
   "outputs": [],
   "source": [
    "# Beispielfunktion für unterschiedliche Input-Typen\n",
    "f(a, b) = a * b\n",
    "# Wir nutzen ein Makro (lernen wir später kennen)\n",
    "@code_llvm f(1, 2)"
   ]
  },
  {
   "cell_type": "code",
   "execution_count": null,
   "metadata": {},
   "outputs": [],
   "source": [
    "@code_llvm f(\"1\", \"2\")"
   ]
  },
  {
   "attachments": {},
   "cell_type": "markdown",
   "metadata": {},
   "source": [
    "Dass hier zwei verschiedene Outputs herauskommen, ist im Wesentlichen der Grund dafür, dass Julia performant (schnell) ist. Allerdings kann genau dieses Verhalten manchmal auch für langsamen Code führen – nämlich genau dann, wenn der Output Kompilierprozesses nicht spezialisiert genug ist (mehr dazu später)."
   ]
  },
  {
   "attachments": {},
   "cell_type": "markdown",
   "metadata": {},
   "source": [
    "## Pakete\n",
    "\n",
    "Für die kommenden Anwendungen werden wir sogenannte Pakete (packages) nutzen, die uns zusätzliche Funktionalität liefern. Wenn wir ein Paket namens ```ExamplePackage``` installieren wollen, dann geht das mittels ```using Pkg``` und ```Pkg.add(\"ExamplePackage\")```.[^1]\n",
    "\n",
    "In der Julia-Konsole ist das durch den Paketmanager, welchen man durch die Eingabe von ```]``` erreicht, sogar noch einfacher (```add ExamplePackage```). Ein installiertes Paket lässt sich dann mit ```using ExamplePackage``` in Julia nutzen.\n",
    "\n",
    "[^1]:\n",
    "    Tatsächlich laden wir hier mit ```using``` ein Modul bzw. namespace (wir wissen noch nicht was das ist), generell sind Pakete hauptsächlich Modulsammlungen."
   ]
  },
  {
   "attachments": {},
   "cell_type": "markdown",
   "metadata": {},
   "source": [
    "## Pipes\n",
    "\n",
    "Durch Pipes bekommen wir eine hübschere Syntax:"
   ]
  },
  {
   "cell_type": "code",
   "execution_count": null,
   "metadata": {},
   "outputs": [],
   "source": [
    "# Beispielrechnung mit verschachtelten Funktionen\n",
    "foo = 0; add6(x) = x + 6; mul2(x) = 2*x\n",
    "println(mul2(add6(foo)))"
   ]
  },
  {
   "cell_type": "code",
   "execution_count": null,
   "metadata": {},
   "outputs": [],
   "source": [
    "# Base Julia hat schon Pipes\n",
    "foo |> add6 |> mul2 |> println"
   ]
  },
  {
   "attachments": {},
   "cell_type": "markdown",
   "metadata": {},
   "source": [
    "Das Paket Pipe.jl bietet uns noch ein paar zusätzliche Möglichkeiten:"
   ]
  },
  {
   "cell_type": "code",
   "execution_count": null,
   "metadata": {},
   "outputs": [],
   "source": [
    "# Die Ausgabe eines solchen Befehls ist beim ersten Ausführen länger\n",
    "using Pkg; Pkg.add(\"Pipe\")"
   ]
  },
  {
   "cell_type": "code",
   "execution_count": null,
   "metadata": {},
   "outputs": [],
   "source": [
    "# lade Paket\n",
    "using Pipe\n",
    "\n",
    "# Beispielfunktion mit zwei Argumenten\n",
    "polynom(x, y) = x^2 + y + 5\n",
    "\n",
    "# benutze den @pipe decorator\n",
    "@pipe foo |> polynom(_, 2)"
   ]
  },
  {
   "attachments": {},
   "cell_type": "markdown",
   "metadata": {},
   "source": [
    "## DataFrames\n",
    "\n",
    "Für unser nächstes Thema brauchen wir das Paket [DataFrames.jl](https://dataframes.juliadata.org/stable/)."
   ]
  },
  {
   "cell_type": "code",
   "execution_count": null,
   "metadata": {},
   "outputs": [],
   "source": [
    "Pkg.add(\"DataFrames\")"
   ]
  },
  {
   "cell_type": "code",
   "execution_count": null,
   "metadata": {},
   "outputs": [],
   "source": [
    "using DataFrames"
   ]
  },
  {
   "attachments": {},
   "cell_type": "markdown",
   "metadata": {},
   "source": [
    "DataFrames sind im Grunde genommen Tabellen, wie zum Beispiel in Excel. Wer schon ```dplyr``` oder ```pandas``` kennt, findet [hier](https://dataframes.juliadata.org/stable/man/comparisons/) einen guten Vergleich zu ```DataFrames.jl```.\n",
    "\n",
    "In unserem ersten Beispiel schauen wir uns einen Datensatz mit vergebenen Noten an:"
   ]
  },
  {
   "cell_type": "code",
   "execution_count": null,
   "metadata": {},
   "outputs": [],
   "source": [
    "function grades_2020()\n",
    "    name = [\"Sally\", \"Bob\", \"Alice\", \"Hank\"]\n",
    "    grade_2020 = [1, 5, 8.5, 4]\n",
    "    DataFrame(; name, grade_2020)\n",
    "end\n",
    "df = grades_2020()"
   ]
  },
  {
   "attachments": {},
   "cell_type": "markdown",
   "metadata": {},
   "source": [
    "Auf Spalten kann direkt über ihren Namen zugegriffen werden:"
   ]
  },
  {
   "cell_type": "code",
   "execution_count": null,
   "metadata": {},
   "outputs": [],
   "source": [
    "df.name "
   ]
  },
  {
   "attachments": {},
   "cell_type": "markdown",
   "metadata": {},
   "source": [
    "Alternativ würde auch die Syntax ```df[!, :name]``` funktionieren.\n",
    "Hierbei ist wichtig zu verstehen, dass dies keine Kopie der Spalte erzeugt, sondern Änderungen sich direkt in den DataFrame übertragen. "
   ]
  },
  {
   "cell_type": "code",
   "execution_count": null,
   "metadata": {},
   "outputs": [],
   "source": [
    "df.name[1] = \"Sharon\"\n",
    "df"
   ]
  },
  {
   "attachments": {},
   "cell_type": "markdown",
   "metadata": {},
   "source": [
    "```df[:, :name_der_spalte]``` oder ```df[:, nummer_der_spalte]``` hingegen erzeugen Kopien der ausgewählten Spalten des DataFrames (das ist also anders als bei Arrays):"
   ]
  },
  {
   "cell_type": "code",
   "execution_count": null,
   "metadata": {},
   "outputs": [],
   "source": [
    "names = df[!, :name]\n",
    "names[1] = \"Alice\" # oder df[:,1]"
   ]
  },
  {
   "cell_type": "code",
   "execution_count": null,
   "metadata": {},
   "outputs": [],
   "source": [
    "names[1] = \"Alice\"\n",
    "df"
   ]
  },
  {
   "attachments": {},
   "cell_type": "markdown",
   "metadata": {},
   "source": [
    "#### ```filter```"
   ]
  },
  {
   "attachments": {},
   "cell_type": "markdown",
   "metadata": {},
   "source": [
    "Die Funktion ```filter``` hilft Zeilen eines DataFrames nach beliebigen Kriterien auszuwählen, als Beispiel hierfür definieren wir uns zunächst folgende Funktion:"
   ]
  },
  {
   "cell_type": "code",
   "execution_count": null,
   "metadata": {},
   "outputs": [],
   "source": [
    "equals_alice(name::String) = name == \"Alice\"\n",
    "equals_alice(\"Bob\")"
   ]
  },
  {
   "attachments": {},
   "cell_type": "markdown",
   "metadata": {},
   "source": [
    "Mithilfe von ```filter``` können wir jetzt alle Einträge der Spalte ```name``` in dem Dataframe durchgehen und die Reihen mit dem Namen ```\"Alice\"``` filtern.\n"
   ]
  },
  {
   "cell_type": "code",
   "execution_count": null,
   "metadata": {},
   "outputs": [],
   "source": [
    "filter(:name => equals_alice, df)"
   ]
  },
  {
   "attachments": {},
   "cell_type": "markdown",
   "metadata": {},
   "source": [
    "Alternativ hätten wir uns auch die Hilfsfunktion ```equals_alice``` sparen und stattdessen eine anonyme Funktion nutzen können: "
   ]
  },
  {
   "cell_type": "code",
   "execution_count": null,
   "metadata": {},
   "outputs": [],
   "source": [
    "filter(:name => x -> x == \"Bob\", df)"
   ]
  },
  {
   "attachments": {},
   "cell_type": "markdown",
   "metadata": {},
   "source": [
    "Noch kürzer geht es mithilfe der generischen Funktion ```==(\"Bob\")```:"
   ]
  },
  {
   "cell_type": "code",
   "execution_count": null,
   "metadata": {},
   "outputs": [],
   "source": [
    "filter(:name => ==(\"Bob\"), df)"
   ]
  },
  {
   "attachments": {},
   "cell_type": "markdown",
   "metadata": {},
   "source": [
    "#### ```subset``` und ```select```\n",
    "\n",
    "Statt ```filter``` können (und wollen wir meistens) auch die Funktion ```subset``` nutzen. Aus zwei Gründen sollte man aber ```filter``` trotzdem schon mal gesehen haben:\n",
    "\n",
    "- ```filter``` funktioniert auch für andere Typen als DataFrames (zum Beispiel Dicts)\n",
    "- zum Teil ist ```filter``` performanter\n",
    "\n",
    "Umgekehrt ist ```subset``` aber zumeist ein bisschen angenehmer:\n",
    "\n",
    "- besseres handling von fehlenden Werten\n",
    "- Syntax ist konsistent mit den anderen Befehlen für DataFrames.\n",
    "\n",
    "Zentral ist jedenfalls, dass ```subset``` nicht Werte einzelner Reihen vergleicht, sondern stets die komplette Spalte vergleicht:"
   ]
  },
  {
   "cell_type": "code",
   "execution_count": null,
   "metadata": {},
   "outputs": [],
   "source": [
    "# vergleiche mit filter, unsere anonyme Funktion operiert nun auf einen Vektor!\n",
    "subset(df, :name => x -> x .==(\"Bob\"))"
   ]
  },
  {
   "attachments": {},
   "cell_type": "markdown",
   "metadata": {},
   "source": [
    "Wenn wir unser Problem wie gehabt nicht in einen Vergleich der ganzen Spalte umformulieren wollen, dann geht das mithilfe der Funktion ```ByRow```:"
   ]
  },
  {
   "cell_type": "code",
   "execution_count": null,
   "metadata": {},
   "outputs": [],
   "source": [
    "subset(df, :name => ByRow(==(\"Bob\")))"
   ]
  },
  {
   "attachments": {},
   "cell_type": "markdown",
   "metadata": {},
   "source": [
    "Die Funktion ```select``` filtert im Gegensatz zu ```filter```/```subset``` nicht Reihen, sondern Spalten aus."
   ]
  },
  {
   "cell_type": "code",
   "execution_count": null,
   "metadata": {},
   "outputs": [],
   "source": [
    "function responses()\n",
    "    id = [1, 2]\n",
    "    q1 = [28, 61]\n",
    "    q2 = [:us, :fr]\n",
    "    q3 = [\"F\", \"B\"]\n",
    "    q4 = [\"B\", \"C\"]\n",
    "    q5 = [\"A\", \"E\"]\n",
    "    DataFrame(; id, q1, q2, q3, q4, q5)\n",
    "end\n",
    "df2 = responses()"
   ]
  },
  {
   "attachments": {},
   "cell_type": "markdown",
   "metadata": {},
   "source": [
    "Beispielsweise können wir so die Spalten ```id``` und ```q1``` auswählen:"
   ]
  },
  {
   "cell_type": "code",
   "execution_count": null,
   "metadata": {},
   "outputs": [],
   "source": [
    "select(df2, :id, :q1) # alternativ würde auch select(df2, \"id\", \"q1\") funktionieren "
   ]
  },
  {
   "attachments": {},
   "cell_type": "markdown",
   "metadata": {},
   "source": [
    "Mithilfe der Funktion ```Not``` kann man eine oder mehrere Spalten aussortieren:"
   ]
  },
  {
   "cell_type": "code",
   "execution_count": null,
   "metadata": {},
   "outputs": [],
   "source": [
    "select(df2, Not([:q2, :q5]))"
   ]
  },
  {
   "attachments": {},
   "cell_type": "markdown",
   "metadata": {},
   "source": [
    "Die Position von Spalten kann derart verändert werden:"
   ]
  },
  {
   "cell_type": "code",
   "execution_count": null,
   "metadata": {},
   "outputs": [],
   "source": [
    "select(df2, :q3, :) # erst q3, dann der Rest"
   ]
  },
  {
   "cell_type": "code",
   "execution_count": null,
   "metadata": {},
   "outputs": [],
   "source": [
    "select(df2, 2, :q3, :) # erst die zweite Spalte (:q1), dann :q3, dann der Rest"
   ]
  },
  {
   "attachments": {},
   "cell_type": "markdown",
   "metadata": {},
   "source": [
    "Und zuletzt können mithilfe von ```select``` auch die Namen der Spalten geändert werden:"
   ]
  },
  {
   "cell_type": "code",
   "execution_count": null,
   "metadata": {},
   "outputs": [],
   "source": [
    "select(df2, 1 => \"participant\", :q1 => \"age\", :q2 => \"nationality\")\n",
    "df2"
   ]
  },
  {
   "attachments": {},
   "cell_type": "markdown",
   "metadata": {},
   "source": [
    "Wie für Julia typisch, gibt es alle oben genanten Funktionen auch mit einem ```!``` (wie etwa ```select!```).\n",
    "Der Unterschied besteht darin, dass in diesem Fall keine Kopie des Dataframes erstellt, sondern der orginale DataFrame verändert wird.\n",
    " "
   ]
  },
  {
   "attachments": {},
   "cell_type": "markdown",
   "metadata": {},
   "source": [
    "### Datentypen und kategorische Variablen"
   ]
  },
  {
   "attachments": {},
   "cell_type": "markdown",
   "metadata": {},
   "source": [
    "Wie man in den oberen Bespielen erkennen kann, versucht Julia jeder Spalte einen Datentyp zuzordnen, was allerdings nicht immer ganz so gut funktioniert."
   ]
  },
  {
   "cell_type": "code",
   "execution_count": null,
   "metadata": {},
   "outputs": [],
   "source": [
    "function wrong_types()\n",
    "    id = 1:4\n",
    "    date = [\"28-01-2018\", \"03-04-2019\", \"01-08-2018\", \"22-11-2020\"]\n",
    "    age = [\"adolescent\", \"adult\", \"infant\", \"adult\"]\n",
    "    DataFrame(; id, date, age)\n",
    "end\n",
    "df = wrong_types()"
   ]
  },
  {
   "attachments": {},
   "cell_type": "markdown",
   "metadata": {},
   "source": [
    "Falsche Datentypen können das Sortieren in DataFrames erschweren. In dem oberen Fall hat zum Beispiel die Spalte ```date``` das Format ```String```, obwohl es in Julia dafür einen speziellen Datentyp (nämlich ```Date```) gibt, mithilfe dessen man Daten im Datumsformat einfach vergleichen kann. Mit dem Paket ```Dates``` lässt sich dies aber leicht beheben."
   ]
  },
  {
   "cell_type": "code",
   "execution_count": null,
   "metadata": {},
   "outputs": [],
   "source": [
    "Pkg.add(\"Dates\")"
   ]
  },
  {
   "cell_type": "code",
   "execution_count": null,
   "metadata": {},
   "outputs": [],
   "source": [
    "using Dates\n",
    "\n",
    "function fix_date_format(df)\n",
    "    dates = Date.(df.date, dateformat\"dd-mm-yyyy\") # specify date format\n",
    "    df.date = dates # reassign dates\n",
    "end\n",
    "\n",
    "fix_date_format(df)\n",
    "df"
   ]
  },
  {
   "attachments": {},
   "cell_type": "markdown",
   "metadata": {},
   "source": [
    "Zur Überprüfung vergleichen wir das Geburtsdatum der Personen 1 und 2 und erhalten: "
   ]
  },
  {
   "cell_type": "code",
   "execution_count": null,
   "metadata": {},
   "outputs": [],
   "source": [
    "df[1, :date] < df[2, :date]"
   ]
  },
  {
   "attachments": {},
   "cell_type": "markdown",
   "metadata": {},
   "source": [
    "In der Spalte ```age``` trifft man auf ein ähnliches Problem, da man den Variablen gerne eine hierarchische Struktur geben würde: ```adult > adolescent > infant```. Dies lässt sich mithilfe des Paketes ```CategoricalArrays``` beheben:"
   ]
  },
  {
   "cell_type": "code",
   "execution_count": null,
   "metadata": {},
   "outputs": [],
   "source": [
    "Pkg.add(\"CategoricalArrays\")"
   ]
  },
  {
   "cell_type": "code",
   "execution_count": null,
   "metadata": {},
   "outputs": [],
   "source": [
    "using CategoricalArrays\n",
    "\n",
    "function fix_age(df)\n",
    "    levels = [\"infant\", \"adolescent\", \"adult\"]\n",
    "    ages = categorical(df.age; levels, ordered = true)\n",
    "    df.age = ages\n",
    "end\n",
    "\n",
    "fix_age(df)\n",
    "df"
   ]
  },
  {
   "attachments": {},
   "cell_type": "markdown",
   "metadata": {},
   "source": [
    "Auch hier kann man noch einmal überprüfen ob sich die Personen anhand ihres Alter vergleichen lassen können : "
   ]
  },
  {
   "cell_type": "code",
   "execution_count": null,
   "metadata": {},
   "outputs": [],
   "source": [
    "df[1, :age] < df[2, :age]"
   ]
  },
  {
   "attachments": {},
   "cell_type": "markdown",
   "metadata": {},
   "source": [
    "### Datensätze zusammenführen\n",
    "\n",
    "Im folgenden Abschnitt wird behandelt, wie man verschiedene DataFrames zusammenführen bzw. kombinieren kann. Hierfür nimmt man meistens verschiedene Versionen der Funktion ```join```; die jeweilige Funktionalität ist im [Cheatsheet](https://ahsmart.com/assets/pages/data-wrangling-with-data-frames-jl-cheat-sheet/DataFramesCheatSheet_v1.x_rev1.pdf) von Tom Kwong schön visualisiert.\n",
    "\n",
    "Betrachten wir zwei DataFrames:"
   ]
  },
  {
   "cell_type": "code",
   "execution_count": null,
   "metadata": {},
   "outputs": [],
   "source": [
    "function grades_2021() # grades_2020() haben wir schon\n",
    "    name = [\"Kevin\", \"Sally\", \"Hank\"]\n",
    "    grade_2021 = [8, 7, 5.5]\n",
    "    DataFrame(; name, grade_2021)\n",
    "end\n",
    "grades_2021()"
   ]
  },
  {
   "cell_type": "code",
   "execution_count": null,
   "metadata": {},
   "outputs": [],
   "source": [
    "grades_2020()"
   ]
  },
  {
   "attachments": {},
   "cell_type": "markdown",
   "metadata": {},
   "source": [
    "Bei ```innerjoin``` wird ein Argument/Spaltenname mitgegeben, über welchen die beiden DataFrames zusammen geführt werden sollen. So werden beispielsweise für ```:name``` alle Elemente aus der Spalte ```:name``` des einen DataFrames mit den Elementen des anderen DataFrames verglichen. Falls diese Einträge übereinstimmen, werden die restliche Information (Einträge der Reihe) aus beiden DataFrames in Spalten zusammengeführt."
   ]
  },
  {
   "cell_type": "code",
   "execution_count": null,
   "metadata": {},
   "outputs": [],
   "source": [
    "innerjoin(grades_2020(), grades_2021(), on=:name)"
   ]
  },
  {
   "attachments": {},
   "cell_type": "markdown",
   "metadata": {},
   "source": [
    "```outerjoin``` nimmt hingegen alle Elemente, die in den jeweiligen DataFrames zumindest einmal vorkommen und führt diese zusammen. Hierbei werden nicht vorhandene Information durch ein \"missing\" ersetzt.  "
   ]
  },
  {
   "cell_type": "code",
   "execution_count": null,
   "metadata": {},
   "outputs": [],
   "source": [
    "outerjoin(grades_2020(), grades_2021(); on=:name)"
   ]
  },
  {
   "attachments": {},
   "cell_type": "markdown",
   "metadata": {},
   "source": [
    "Zuletzt übergibt ```leftjoin```/```rightjoin``` alle Werte aus dem linken/rechten Dataframe und führt sie mit den Einträgen aus dem rechten/linken DataFrame zusammen, für welche der rechte/linke Dataframe in der entsprechenden Kategorie (zum Beispiel ```:name```) übereinstimmt:"
   ]
  },
  {
   "cell_type": "code",
   "execution_count": null,
   "metadata": {},
   "outputs": [],
   "source": [
    "leftjoin(grades_2020(), grades_2021(); on=:name)"
   ]
  }
 ],
 "metadata": {
  "kernelspec": {
   "display_name": "Julia 1.10.0",
   "language": "julia",
   "name": "julia-1.10"
  },
  "language_info": {
   "file_extension": ".jl",
   "mimetype": "application/julia",
   "name": "julia",
   "version": "1.10.0"
  },
  "orig_nbformat": 4,
  "vscode": {
   "interpreter": {
    "hash": "b0fa6594d8f4cbf19f97940f81e996739fb7646882a419484c72d19e05852a7e"
   }
  }
 },
 "nbformat": 4,
 "nbformat_minor": 2
}
