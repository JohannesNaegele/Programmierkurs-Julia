{
 "cells": [
  {
   "attachments": {},
   "cell_type": "markdown",
   "metadata": {},
   "source": [
    "# Kurs 7"
   ]
  },
  {
   "attachments": {},
   "cell_type": "markdown",
   "metadata": {},
   "source": [
    "## Metaprogramming\n",
    "\n",
    "Der Begriff Metaprogramming heißt soviel wie: Code, der Code generiert. Eine der schönen Eigenschaften von Julia ist, dass Metaprogramming hier sehr elegant funktioniert. In Sprachen wie C++ ist das immer absolut nervig, weil man sozusagen einen extra Überbau über die Sprache benötigt, der den Code manipuliert, *bevor* er kompiliert wird. Insbesondere also *bevor* der kompilierte Code ausgeführt werden kann. Das sind dann sogenannte preprocessor directives.\n",
    "\n",
    "In Julia verwendet man stattdessen sogenannte Makros. Der große Vorteil gegenüber zu etwa C++ ist, dass man hier durch den JIT beispielsweise einen Variablennahmen mit regex *zur Laufzeit* erzeugen und dann im nächsten Schritt ein Makro zur Generierung von neuem Code mit dem Variablennahmen verwenden kann. Das heißt im Klartext: Diese strikte Trennung von Codeerzeugung und Codeausführung gibt es nicht mehr.\n",
    "\n",
    "Offtopic erklärt das ganz gut den (mehr oder weniger lustigen) Witz vom Julia-Mitentwickler Jeff Bezanson, der Name Julia könne auch für \"Jeff's uncommon lisp is automated\" stehen. Lisp ist nämlich eine Programmiersprache deren Stärke insbesondere das Metaprogramming ist. Julias Funktionalität in diesem Bereich kommt also nicht von ungefähr."
   ]
  },
  {
   "attachments": {},
   "cell_type": "markdown",
   "metadata": {},
   "source": [
    "### Expressions\n",
    "\n",
    "Um diese kleine Vorbemerkung ein bisschen plastischer zu machen, begeben wir uns nun auf eine Mini-Reise durch die Ausführungschritte von Julia-Code (ausführlichere Infos [hier](https://docs.julialang.org/en/v1/devdocs/eval/)). Wenn wir in Julia eine Zeile Code eingeben, dann haben wir zunächst ja einfach nur Text, also einen String. Dieser wird dann in eine `Expr` (expression) umgewandelt. Das nennt man `parsen`:"
   ]
  },
  {
   "cell_type": "code",
   "execution_count": null,
   "metadata": {},
   "outputs": [],
   "source": [
    "input_expr = Meta.parse(\"1 + 2\")"
   ]
  },
  {
   "cell_type": "code",
   "execution_count": null,
   "metadata": {},
   "outputs": [],
   "source": [
    "input_expr |> typeof"
   ]
  },
  {
   "attachments": {},
   "cell_type": "markdown",
   "metadata": {},
   "source": [
    "Unsere expression wird schlussendlich in ausführbaren Maschinencode übersetzt und ausgeführt:"
   ]
  },
  {
   "cell_type": "code",
   "execution_count": null,
   "metadata": {},
   "outputs": [],
   "source": [
    "eval(input_expr) # Nebenbemerkung: eval läuft IMMER in der global scope!"
   ]
  },
  {
   "attachments": {},
   "cell_type": "markdown",
   "metadata": {},
   "source": [
    "Wenn wir jetzt aber nochmal einen Schritt zurück machen, dann sehen wir, dass in der `Expr` unser Eingabetext in eine hierarchische Baumstruktur gebracht wurde:"
   ]
  },
  {
   "cell_type": "code",
   "execution_count": null,
   "metadata": {},
   "outputs": [],
   "source": [
    "input_expr |> dump"
   ]
  },
  {
   "cell_type": "code",
   "execution_count": null,
   "metadata": {},
   "outputs": [],
   "source": [
    "input_expr.head"
   ]
  },
  {
   "cell_type": "code",
   "execution_count": null,
   "metadata": {},
   "outputs": [],
   "source": [
    "input_expr.args"
   ]
  },
  {
   "attachments": {},
   "cell_type": "markdown",
   "metadata": {},
   "source": [
    "Dabei gibt es immer einen *head* und einen *body*, also sozusagen Stamm und Äste. In unserem Fall ist der head `:call`, weil wir den Operator `+` auf die Inputs `1` und `2` anwenden. Betrachten wir ein etwas schwierigeres Beispiel:"
   ]
  },
  {
   "cell_type": "code",
   "execution_count": null,
   "metadata": {},
   "outputs": [],
   "source": [
    "advanced_expr = :(f(1) + 2) # wir erstellen uns direkt eine Expr"
   ]
  },
  {
   "attachments": {},
   "cell_type": "markdown",
   "metadata": {},
   "source": [
    "Hier stellen wir nun fest, dass anstelle der `1` eine weitere (geschachtelte) Expression getreten ist:"
   ]
  },
  {
   "cell_type": "code",
   "execution_count": null,
   "metadata": {},
   "outputs": [],
   "source": [
    "advanced_expr |> dump"
   ]
  },
  {
   "attachments": {},
   "cell_type": "markdown",
   "metadata": {},
   "source": [
    "Ganz analog ist in dieser der head `:call`, weil wir wir einen Funktionsaufruf (call) `f(x)` haben."
   ]
  },
  {
   "cell_type": "code",
   "execution_count": null,
   "metadata": {},
   "outputs": [],
   "source": [
    "advanced_expr.args[2].head"
   ]
  },
  {
   "attachments": {},
   "cell_type": "markdown",
   "metadata": {},
   "source": [
    "Außerdem können wir (ähnlich wie bei Strings) *interpolation* nutzen:"
   ]
  },
  {
   "cell_type": "code",
   "execution_count": null,
   "metadata": {},
   "outputs": [],
   "source": [
    "x = 2\n",
    ":(sqrt($x))"
   ]
  },
  {
   "attachments": {},
   "cell_type": "markdown",
   "metadata": {},
   "source": [
    "### Mickey Mouse Example\n",
    "\n",
    "Wofür brauchen wir nun Makros? Nehmen wir einmal an, wir würden gerne die Variablen ```a``` bis ```z``` so belegen, dass ```a = 1, ..., z = 26```. Dann wollen wir das natürlich nicht händisch ausschreiben, sondern möglichst arbeitssparend tun. Dafür können wir das Makro `@eval` nutzen:"
   ]
  },
  {
   "cell_type": "code",
   "execution_count": null,
   "metadata": {},
   "outputs": [],
   "source": [
    "# Anfangsbuchstabe (character) ist a\n",
    "ch = 'a'\n",
    "\n",
    "for i in 1:26\n",
    "    # wir nutzen nun das Makro, weil wir so nicht extra eine Expr erzeugen müssen\n",
    "    @eval $(Symbol(ch)) = $i # Interpolation mit $\n",
    "    ch += 1\n",
    "end\n",
    "\n",
    "y"
   ]
  },
  {
   "attachments": {},
   "cell_type": "markdown",
   "metadata": {},
   "source": [
    "Jetzt kann man sich fragen: Warum genau sollte man das tun wollen? Variablen derart zu benennen ist wahrscheinlich Quatsch, stattdessen würde man wohl eher mit dem Array `collect(1:26)` arbeiten. Eine sinnvolle Anwendung findet man aber zum Beispiel beim Makro `@assert`:"
   ]
  },
  {
   "cell_type": "code",
   "execution_count": null,
   "metadata": {},
   "outputs": [],
   "source": [
    "@macroexpand @assert (a == 1) \"a ist nicht 1!!\""
   ]
  },
  {
   "attachments": {},
   "cell_type": "markdown",
   "metadata": {},
   "source": [
    "### Eigene Makros"
   ]
  },
  {
   "attachments": {},
   "cell_type": "markdown",
   "metadata": {},
   "source": [
    "Grundsätzlich gibt es viele Zwecke für Metaprogramming, aber in der Regel fällt die Nutzung von Makros in eine von zwei Kategorien:\n",
    "\n",
    "- Wir wollen neue \"language features\" implementieren\n",
    "- Wir wollen syntactic sugar (hübschere Schreibweisen)\n",
    "\n",
    "Betrachten wir ein einfaches Makro, das quadriert:"
   ]
  },
  {
   "cell_type": "code",
   "execution_count": null,
   "metadata": {},
   "outputs": [],
   "source": [
    "macro squared(ex)\n",
    "    return :($(ex) * $(ex))\n",
    "end\n",
    "\n",
    "@squared(2)"
   ]
  },
  {
   "cell_type": "code",
   "execution_count": null,
   "metadata": {},
   "outputs": [],
   "source": [
    "@macroexpand @squared(2)"
   ]
  },
  {
   "attachments": {},
   "cell_type": "markdown",
   "metadata": {},
   "source": [
    "Auf den ersten Blick sieht alles gut aus, allerdings gibt es ein Problem:"
   ]
  },
  {
   "cell_type": "code",
   "execution_count": null,
   "metadata": {},
   "outputs": [],
   "source": [
    "function foo()\n",
    "    x = 2\n",
    "    return @squared x\n",
    "end"
   ]
  },
  {
   "cell_type": "code",
   "execution_count": null,
   "metadata": {},
   "outputs": [],
   "source": [
    "foo()"
   ]
  },
  {
   "attachments": {},
   "cell_type": "markdown",
   "metadata": {},
   "source": [
    "Unser Makro interpretiert `x` als eine globale Variable und nicht als lokale Variable in der Funktion! Der Versuch, dort den entsprechenden Wert reinzukopieren, schlägt also fehl."
   ]
  },
  {
   "cell_type": "code",
   "execution_count": null,
   "metadata": {},
   "outputs": [],
   "source": [
    "@code_lowered foo()"
   ]
  },
  {
   "attachments": {},
   "cell_type": "markdown",
   "metadata": {},
   "source": [
    "Dieses Problem lässt sich durch *escaping* beheben. Wir teilen unserem Makro mit, dass `ex` vom Compiler in Ruhe gelassen werden sollte."
   ]
  },
  {
   "cell_type": "code",
   "execution_count": null,
   "metadata": {},
   "outputs": [],
   "source": [
    "macro squared(ex)\n",
    "    return :($(esc(ex)) * $(esc(ex)))\n",
    "end\n",
    "\n",
    "function foo()\n",
    "    x = 2\n",
    "    return @squared x\n",
    "end"
   ]
  },
  {
   "cell_type": "code",
   "execution_count": null,
   "metadata": {},
   "outputs": [],
   "source": [
    "foo()"
   ]
  },
  {
   "attachments": {},
   "cell_type": "markdown",
   "metadata": {},
   "source": [
    "Hier ist ein weiteres Beispiel, wo escaping notwendig ist; der Compiler ersetzt Variablen- und Funktionsnamen stets durch eigene. Das wollen wir hier nicht."
   ]
  },
  {
   "cell_type": "code",
   "execution_count": null,
   "metadata": {},
   "outputs": [],
   "source": [
    "macro trick(expr)\n",
    "    trick_msg = :(println(\"Wir benutzen eine trickreiche Funktion!\"))\n",
    "    return Expr(:block, trick_msg, expr)\n",
    "end"
   ]
  },
  {
   "cell_type": "code",
   "execution_count": null,
   "metadata": {},
   "outputs": [],
   "source": [
    "@trick bar(x) = 1"
   ]
  },
  {
   "cell_type": "code",
   "execution_count": null,
   "metadata": {},
   "outputs": [],
   "source": [
    "macro trick(expr)\n",
    "    trick_msg = :(println(\"Wir benutzen eine trickreiche Funktion!\"))\n",
    "    return esc(Expr(:block, trick_msg, expr))\n",
    "end"
   ]
  },
  {
   "cell_type": "code",
   "execution_count": null,
   "metadata": {},
   "outputs": [],
   "source": [
    "@trick foobar(x) = 1"
   ]
  },
  {
   "attachments": {},
   "cell_type": "markdown",
   "metadata": {},
   "source": [
    "Wichtige Makros sind außerdem\n",
    "\n",
    "- `@time`\n",
    "- `@macroexpand`\n",
    "- `@which`\n",
    "- `@edit`\n"
   ]
  },
  {
   "attachments": {},
   "cell_type": "markdown",
   "metadata": {},
   "source": [
    "### Ausblick: Loop unrolling (SIMD)\n",
    "\n",
    "Ein anwendungsnäheres Beispiel als oben wäre etwa das sogenannte loop unrolling. Sagen wir, wir haben einen Vektor, der als Länge ein Vielfaches von 4 hat. Nun muss man wissen: Viele Hardwarearchitekturen haben beschleunigte Operationen implementiert, wenn man viele punktweise (gleiche) Operationen durchführt. Das nennt man auch SIMD (single instruction, multiple data).\n",
    "Weil Loops erst zur Laufzeit ausgeführt werden, weiß der Kompiler aber nicht immer, dass wir hier so etwas vorliegen haben. Wir können uns also ein Makro schreiben, das aus\n",
    "```\n",
    "for i=1:4n\n",
    "    c[i] = a[i]*b[i]\n",
    "end\n",
    "```\n",
    "den Code\n",
    "```\n",
    "for i=1:n\n",
    "    c[i*4]     = a[i*4]    *b[i*4]\n",
    "    c[i*4 + 1] = a[i*4 + 1]*b[i*4 + 1]\n",
    "    c[i*4 + 2] = a[i*4 + 2]*b[i*4 + 2]\n",
    "    c[i*4 + 3] = a[i*4 + 3]*b[i*4 + 3]\n",
    "end\n",
    "```\n",
    "generiert.\n",
    "\n",
    "Auf diese Weise weiß der Compiler, dass hier sozusagen 4 mal die gleiche Operation durchgeführt wird und kann diesen Prozess optimieren. Am einfachsten geht dies mit dem Makro `Base.Cartesian.@nexprs`."
   ]
  },
  {
   "cell_type": "code",
   "execution_count": null,
   "metadata": {},
   "outputs": [],
   "source": [
    "@macroexpand Base.Cartesian.@nexprs 4 j -> c[i * 4 + (j - 1)] = a[i * 4 + (j - 1)] * b[i * 4 + (j - 1)]"
   ]
  },
  {
   "attachments": {},
   "cell_type": "markdown",
   "metadata": {},
   "source": [
    "### Ausblick: Eigene Syntax bzw. Modelldefinitionen\n",
    "\n",
    "Ebenfalls praktisch sind Makros beim Erstellen von eigener (Modell-)Syntax. Beispielweise möchte man oft Parameterwerte in einer `Dict`-ähnlichen Struktur halten:"
   ]
  },
  {
   "cell_type": "code",
   "execution_count": null,
   "metadata": {},
   "outputs": [],
   "source": [
    "my_parameters = Dict(\n",
    "    \"ε\" => 0.9,\n",
    "    \"δ\" => 0.5,\n",
    "    \"α₁\" => 0.2,\n",
    "    \"α₂\" => 0.3\n",
    ")"
   ]
  },
  {
   "cell_type": "markdown",
   "metadata": {},
   "source": [
    "Die Anführungszeichen, der Pfeil `=>` und das Komma am Ende sind aber nervig zu tippen und ein `=` wäre auch aus mathematische Sicht schöner. Außerdem hätte man vielleicht gerne einen eigenen Datentyp, damit der User nicht ein fremdes, potenziell sinnfreies `Dict` an Funktionen übergeben kann. Dafür definieren wir uns (welch Überraschung) ein Makro:"
   ]
  },
  {
   "cell_type": "code",
   "execution_count": null,
   "metadata": {},
   "outputs": [],
   "source": [
    "macro parameters(block)\n",
    "    exprs = block.args\n",
    "\n",
    "    # Filtere auf Zuweisungen\n",
    "    assignments = filter(e -> isa(e, Expr) && e.head == :(=), exprs)\n",
    "\n",
    "    # Extrahiere Variablennamen und deren Werte als Symbole\n",
    "    pairs = [Expr(:call, :(=>), :(Symbol($(\"$(a.args[1])\"))), a.args[2]) for a in assignments]\n",
    "\n",
    "    return esc(Expr(:call, :(Dict), pairs...)) # hier möglicherweise ein anderer Datentyp als Dict\n",
    "end\n",
    "\n",
    "my_parameters = @parameters begin\n",
    "    ε = 0.9\n",
    "    δ = 0.5\n",
    "    α₁ = 0.2\n",
    "    α₂ = 0.3\n",
    "end"
   ]
  }
 ],
 "metadata": {
  "kernelspec": {
   "display_name": "Julia 1.10.0",
   "language": "julia",
   "name": "julia-1.10"
  },
  "language_info": {
   "file_extension": ".jl",
   "mimetype": "application/julia",
   "name": "julia",
   "version": "1.10.0"
  },
  "orig_nbformat": 4,
  "vscode": {
   "interpreter": {
    "hash": "b0fa6594d8f4cbf19f97940f81e996739fb7646882a419484c72d19e05852a7e"
   }
  }
 },
 "nbformat": 4,
 "nbformat_minor": 2
}
